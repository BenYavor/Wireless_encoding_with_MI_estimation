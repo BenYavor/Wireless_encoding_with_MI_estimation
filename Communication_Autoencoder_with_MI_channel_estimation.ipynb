{
  "nbformat": 4,
  "nbformat_minor": 0,
  "metadata": {
    "colab": {
      "name": "Communication Autoencoder with MI channel estimation.ipynb",
      "provenance": [],
      "collapsed_sections": [],
      "include_colab_link": true
    },
    "kernelspec": {
      "name": "python3",
      "display_name": "Python 3"
    }
  },
  "cells": [
    {
      "cell_type": "markdown",
      "metadata": {
        "id": "view-in-github",
        "colab_type": "text"
      },
      "source": [
        "<a href=\"https://colab.research.google.com/github/BenYavor/Wireless_encoding_with_MI_estimation/blob/master/Communication_Autoencoder_with_MI_channel_estimation.ipynb\" target=\"_parent\"><img src=\"https://colab.research.google.com/assets/colab-badge.svg\" alt=\"Open In Colab\"/></a>"
      ]
    },
    {
      "cell_type": "code",
      "metadata": {
        "id": "EkWq8Zt_isjR",
        "colab_type": "code",
        "outputId": "acc65f3f-cd52-44cd-9714-a43177f03a13",
        "colab": {
          "base_uri": "https://localhost:8080/",
          "height": 644
        }
      },
      "source": [
        "!pip install tensorflow==2.0.0 \n",
        "import sys\n",
        "assert sys.version_info >= (3, 5)\n",
        "import numpy as np\n",
        "%matplotlib inline\n",
        "import matplotlib as mpl\n",
        "import matplotlib.pyplot as plt\n",
        "mpl.rc('axes', labelsize=14)\n",
        "mpl.rc('xtick', labelsize=12)\n",
        "mpl.rc('ytick', labelsize=12)\n",
        "import tensorflow as tf\n",
        "from tensorflow import keras\n",
        "import pandas as pd\n",
        "from scipy import special\n",
        "from tensorflow.keras import layers\n",
        "np.random.seed(42)\n",
        "tf.random.set_seed(42)\n",
        "import time\n"
      ],
      "execution_count": 1,
      "outputs": [
        {
          "output_type": "stream",
          "text": [
            "Requirement already satisfied: tensorflow==2.0.0 in /usr/local/lib/python3.6/dist-packages (2.0.0)\n",
            "Requirement already satisfied: absl-py>=0.7.0 in /usr/local/lib/python3.6/dist-packages (from tensorflow==2.0.0) (0.8.1)\n",
            "Requirement already satisfied: protobuf>=3.6.1 in /usr/local/lib/python3.6/dist-packages (from tensorflow==2.0.0) (3.10.0)\n",
            "Requirement already satisfied: keras-applications>=1.0.8 in /usr/local/lib/python3.6/dist-packages (from tensorflow==2.0.0) (1.0.8)\n",
            "Requirement already satisfied: google-pasta>=0.1.6 in /usr/local/lib/python3.6/dist-packages (from tensorflow==2.0.0) (0.1.8)\n",
            "Requirement already satisfied: astor>=0.6.0 in /usr/local/lib/python3.6/dist-packages (from tensorflow==2.0.0) (0.8.0)\n",
            "Requirement already satisfied: gast==0.2.2 in /usr/local/lib/python3.6/dist-packages (from tensorflow==2.0.0) (0.2.2)\n",
            "Requirement already satisfied: opt-einsum>=2.3.2 in /usr/local/lib/python3.6/dist-packages (from tensorflow==2.0.0) (3.1.0)\n",
            "Requirement already satisfied: six>=1.10.0 in /usr/local/lib/python3.6/dist-packages (from tensorflow==2.0.0) (1.12.0)\n",
            "Requirement already satisfied: tensorboard<2.1.0,>=2.0.0 in /usr/local/lib/python3.6/dist-packages (from tensorflow==2.0.0) (2.0.2)\n",
            "Requirement already satisfied: wheel>=0.26 in /usr/local/lib/python3.6/dist-packages (from tensorflow==2.0.0) (0.33.6)\n",
            "Requirement already satisfied: wrapt>=1.11.1 in /usr/local/lib/python3.6/dist-packages (from tensorflow==2.0.0) (1.11.2)\n",
            "Requirement already satisfied: tensorflow-estimator<2.1.0,>=2.0.0 in /usr/local/lib/python3.6/dist-packages (from tensorflow==2.0.0) (2.0.1)\n",
            "Requirement already satisfied: numpy<2.0,>=1.16.0 in /usr/local/lib/python3.6/dist-packages (from tensorflow==2.0.0) (1.17.4)\n",
            "Requirement already satisfied: keras-preprocessing>=1.0.5 in /usr/local/lib/python3.6/dist-packages (from tensorflow==2.0.0) (1.1.0)\n",
            "Requirement already satisfied: grpcio>=1.8.6 in /usr/local/lib/python3.6/dist-packages (from tensorflow==2.0.0) (1.15.0)\n",
            "Requirement already satisfied: termcolor>=1.1.0 in /usr/local/lib/python3.6/dist-packages (from tensorflow==2.0.0) (1.1.0)\n",
            "Requirement already satisfied: setuptools in /usr/local/lib/python3.6/dist-packages (from protobuf>=3.6.1->tensorflow==2.0.0) (42.0.2)\n",
            "Requirement already satisfied: h5py in /usr/local/lib/python3.6/dist-packages (from keras-applications>=1.0.8->tensorflow==2.0.0) (2.8.0)\n",
            "Requirement already satisfied: google-auth<2,>=1.6.3 in /usr/local/lib/python3.6/dist-packages (from tensorboard<2.1.0,>=2.0.0->tensorflow==2.0.0) (1.8.1)\n",
            "Requirement already satisfied: markdown>=2.6.8 in /usr/local/lib/python3.6/dist-packages (from tensorboard<2.1.0,>=2.0.0->tensorflow==2.0.0) (3.1.1)\n",
            "Requirement already satisfied: google-auth-oauthlib<0.5,>=0.4.1 in /usr/local/lib/python3.6/dist-packages (from tensorboard<2.1.0,>=2.0.0->tensorflow==2.0.0) (0.4.1)\n",
            "Requirement already satisfied: werkzeug>=0.11.15 in /usr/local/lib/python3.6/dist-packages (from tensorboard<2.1.0,>=2.0.0->tensorflow==2.0.0) (0.16.0)\n",
            "Requirement already satisfied: requests<3,>=2.21.0 in /usr/local/lib/python3.6/dist-packages (from tensorboard<2.1.0,>=2.0.0->tensorflow==2.0.0) (2.21.0)\n",
            "Requirement already satisfied: rsa<4.1,>=3.1.4 in /usr/local/lib/python3.6/dist-packages (from google-auth<2,>=1.6.3->tensorboard<2.1.0,>=2.0.0->tensorflow==2.0.0) (4.0)\n",
            "Requirement already satisfied: cachetools<3.2,>=2.0.0 in /usr/local/lib/python3.6/dist-packages (from google-auth<2,>=1.6.3->tensorboard<2.1.0,>=2.0.0->tensorflow==2.0.0) (3.1.1)\n",
            "Requirement already satisfied: pyasn1-modules>=0.2.1 in /usr/local/lib/python3.6/dist-packages (from google-auth<2,>=1.6.3->tensorboard<2.1.0,>=2.0.0->tensorflow==2.0.0) (0.2.7)\n",
            "Requirement already satisfied: requests-oauthlib>=0.7.0 in /usr/local/lib/python3.6/dist-packages (from google-auth-oauthlib<0.5,>=0.4.1->tensorboard<2.1.0,>=2.0.0->tensorflow==2.0.0) (1.3.0)\n",
            "Requirement already satisfied: urllib3<1.25,>=1.21.1 in /usr/local/lib/python3.6/dist-packages (from requests<3,>=2.21.0->tensorboard<2.1.0,>=2.0.0->tensorflow==2.0.0) (1.24.3)\n",
            "Requirement already satisfied: chardet<3.1.0,>=3.0.2 in /usr/local/lib/python3.6/dist-packages (from requests<3,>=2.21.0->tensorboard<2.1.0,>=2.0.0->tensorflow==2.0.0) (3.0.4)\n",
            "Requirement already satisfied: certifi>=2017.4.17 in /usr/local/lib/python3.6/dist-packages (from requests<3,>=2.21.0->tensorboard<2.1.0,>=2.0.0->tensorflow==2.0.0) (2019.11.28)\n",
            "Requirement already satisfied: idna<2.9,>=2.5 in /usr/local/lib/python3.6/dist-packages (from requests<3,>=2.21.0->tensorboard<2.1.0,>=2.0.0->tensorflow==2.0.0) (2.8)\n",
            "Requirement already satisfied: pyasn1>=0.1.3 in /usr/local/lib/python3.6/dist-packages (from rsa<4.1,>=3.1.4->google-auth<2,>=1.6.3->tensorboard<2.1.0,>=2.0.0->tensorflow==2.0.0) (0.4.8)\n",
            "Requirement already satisfied: oauthlib>=3.0.0 in /usr/local/lib/python3.6/dist-packages (from requests-oauthlib>=0.7.0->google-auth-oauthlib<0.5,>=0.4.1->tensorboard<2.1.0,>=2.0.0->tensorflow==2.0.0) (3.1.0)\n"
          ],
          "name": "stdout"
        }
      ]
    },
    {
      "cell_type": "code",
      "metadata": {
        "id": "MXJRVGze4Lgb",
        "colab_type": "code",
        "colab": {}
      },
      "source": [
        "M = 16\n",
        "k = int(np.log2(M))\n",
        "n = 1\n",
        "TRAINING_SNR = 7\n"
      ],
      "execution_count": 0,
      "outputs": []
    },
    {
      "cell_type": "code",
      "metadata": {
        "id": "oUypWuZ9jAcV",
        "colab_type": "code",
        "colab": {}
      },
      "source": [
        "def EbNo_to_noise(ebnodb):\n",
        "    '''Transform EbNo[dB]/snr to noise power'''\n",
        "    ebno = 10**(ebnodb/10)\n",
        "    noise_std = 1/np.sqrt(2*(k/n)*ebno) \n",
        "    return noise_std\n",
        "\n",
        "def SNR_to_noise(snrdb):\n",
        "    '''Transform EbNo[dB]/snr to noise power'''\n",
        "    snr = 10**(snrdb/10)\n",
        "    noise_std = 1/np.sqrt(2*snr)\n",
        "    return noise_std"
      ],
      "execution_count": 0,
      "outputs": []
    },
    {
      "cell_type": "code",
      "metadata": {
        "id": "x81YbgfUjDLE",
        "colab_type": "code",
        "colab": {}
      },
      "source": [
        "randN_05 = keras.initializers.RandomNormal(mean=0.0, stddev=0.05, seed=None)\n",
        "bias_init = keras.initializers.Constant(0.01)\n",
        "\n",
        "input_A = keras.layers.Input(shape=[4*n])\n",
        "input_B = keras.layers.Input(shape=[4*n])\n",
        "    \n",
        "transform = keras.models.Sequential([\n",
        "layers.Dense(256, bias_initializer=bias_init, kernel_initializer=randN_05, activation=\"relu\"),\n",
        "#keras.layers.Dropout(rate=0.3), # To regularize higher dimensionality\n",
        "layers.Dense(256, bias_initializer=bias_init, kernel_initializer=randN_05, activation=\"relu\"),\n",
        "#keras.layers.Dropout(rate=0.3), # To regularize higher dimensionality\n",
        "layers.Dense(1, bias_initializer=bias_init, kernel_initializer=randN_05, activation=None)])\n",
        "\n",
        "output_A = transform(input_A)\n",
        "output_B = transform(input_B)\n",
        "output_C = tf.reduce_mean(output_A) - tf.math.log(tf.reduce_mean(tf.exp(output_B))) # MINE\n",
        "MI_mod = keras.models.Model(inputs=[input_A, input_B], outputs=output_C)\n",
        "\n",
        "#print(MI_mod.inputs)\n",
        "#MI_mod.summary()\n",
        "#keras.utils.plot_model(MI_mod, 'Structure_of_MI_estimation.png', show_shapes=True)\n"
      ],
      "execution_count": 0,
      "outputs": []
    },
    {
      "cell_type": "code",
      "metadata": {
        "id": "E6C69Kzzi4cZ",
        "colab_type": "code",
        "colab": {}
      },
      "source": [
        "noise_std = EbNo_to_noise(TRAINING_SNR)\n",
        "# custom functions / layers without weights\n",
        "norm_layer = keras.layers.Lambda(lambda x: tf.divide(x,tf.sqrt(2*tf.reduce_mean(tf.square(x)))))\n",
        "shape_layer = keras.layers.Lambda(lambda x: tf.reshape(x, shape=[-1,2,n]))\n",
        "shape_layer2 = keras.layers.Lambda(lambda x: tf.reshape(x, shape=[-1,2*n]))\n",
        "channel_layer = keras.layers.Lambda(lambda x: \n",
        "                    x + tf.random.normal(tf.shape(x), mean=0.0, stddev=noise_std))\n",
        "\n",
        "encoder = keras.models.Sequential([\n",
        "            keras.layers.Embedding(M, M, embeddings_initializer='glorot_normal'),\n",
        "            keras.layers.Dense(M, activation=\"elu\"),\n",
        "            keras.layers.Dense(2*n, activation=None),\n",
        "            shape_layer,\n",
        "            norm_layer])\n",
        "\n",
        "channel = keras.models.Sequential([channel_layer])\n",
        "\n",
        "decoder = keras.models.Sequential([\n",
        "                keras.layers.InputLayer(input_shape=[2,n]),\n",
        "                shape_layer2,\n",
        "                keras.layers.Dense(M, activation=\"elu\"),\n",
        "                keras.layers.Dense(M, activation=\"softmax\")\n",
        "                ])\n",
        "\n",
        "autoencoder = keras.models.Sequential([encoder, channel, decoder])"
      ],
      "execution_count": 0,
      "outputs": []
    },
    {
      "cell_type": "code",
      "metadata": {
        "id": "PA9p9oXcjIa4",
        "colab_type": "code",
        "colab": {}
      },
      "source": [
        "def B_Ber_m(input_msg, msg):\n",
        "    '''Calculate the Batch Bit Error Rate'''\n",
        "    pred_error = tf.not_equal(input_msg, tf.argmax(msg, 1))      \n",
        "    bber = tf.reduce_mean(tf.cast(pred_error, tf.float32))\n",
        "    return bber"
      ],
      "execution_count": 0,
      "outputs": []
    },
    {
      "cell_type": "code",
      "metadata": {
        "id": "l75z0TB6jKOV",
        "colab_type": "code",
        "colab": {}
      },
      "source": [
        "def random_sample(batch_size=32):\n",
        "    msg = np.random.randint(M, size=batch_size)\n",
        "    return msg"
      ],
      "execution_count": 0,
      "outputs": []
    },
    {
      "cell_type": "code",
      "metadata": {
        "id": "9yqE4rYojNw_",
        "colab_type": "code",
        "colab": {}
      },
      "source": [
        "def test_encoding(M=16, n=1):\n",
        "    inp = np.arange(0,M)\n",
        "    coding = encoder.predict(inp)\n",
        "    fig = plt.figure(figsize=(4,4))\n",
        "    plt.plot(coding[:,0], coding[:, 1], \"b.\")\n",
        "    plt.xlabel(\"$x_1$\", fontsize=18)\n",
        "    plt.ylabel(\"$x_2$\", fontsize=18, rotation=0)\n",
        "    plt.grid(True)\n",
        "    plt.gca().set_ylim(-2, 2)\n",
        "    plt.gca().set_xlim(-2, 2)\n",
        "    plt.show()\n",
        "\n",
        "def test_noisy_codeword(data):\n",
        "    rcvd_word = data[1:2000]\n",
        "    fig = plt.figure(figsize=(4,4))\n",
        "    plt.plot(rcvd_word[:,0], rcvd_word[:, 1], \"b.\")\n",
        "    plt.xlabel(\"$x_1$\", fontsize=18)\n",
        "    plt.ylabel(\"$x_2$\", fontsize=18, rotation=0)\n",
        "    plt.grid(True)\n",
        "    plt.gca().set_ylim(-2, 2)\n",
        "    plt.gca().set_xlim(-2, 2)\n",
        "    plt.show()"
      ],
      "execution_count": 0,
      "outputs": []
    },
    {
      "cell_type": "code",
      "metadata": {
        "id": "YMwTXx4qjQgY",
        "colab_type": "code",
        "colab": {}
      },
      "source": [
        "loss_fn = keras.losses.SparseCategoricalCrossentropy()\n",
        "mean_loss = keras.metrics.Mean()"
      ],
      "execution_count": 0,
      "outputs": []
    },
    {
      "cell_type": "code",
      "metadata": {
        "id": "afmRKoJ8jTGx",
        "colab_type": "code",
        "colab": {}
      },
      "source": [
        "def plot_loss(step, epoch, mean_loss, X_batch, y_pred, plot_encoding):\n",
        "    template = 'Iteration: {}, Epoch: {}, Loss: {:.5f}, Batch_BER: {:.5f}'\n",
        "    if step % 10 == 0:\n",
        "        print(template.format(step, epoch, mean_loss.result(), B_Ber_m(X_batch, y_pred)))\n",
        "        if plot_encoding:\n",
        "            test_encoding()"
      ],
      "execution_count": 0,
      "outputs": []
    },
    {
      "cell_type": "code",
      "metadata": {
        "id": "MUxXl-Hy4sCQ",
        "colab_type": "code",
        "colab": {}
      },
      "source": [
        "def plot_batch_loss(epoch, mean_loss, X_batch, y_pred):\n",
        "        template_outer_loop = 'Interim result for Epoch: {}, Loss: {:.5f}, Batch_BER: {:.5f}'\n",
        "        print(template_outer_loop.format(epoch, mean_loss.result(), B_Ber_m(X_batch, y_pred)))"
      ],
      "execution_count": 0,
      "outputs": []
    },
    {
      "cell_type": "code",
      "metadata": {
        "id": "2SI75bbcJ0bg",
        "colab_type": "code",
        "colab": {}
      },
      "source": [
        "def split_train_data(x_sample, y_sample):\n",
        "    x_shaped = tf.reshape(x_sample, shape=[-1,2*n])\n",
        "    y_shaped = tf.reshape(y_sample, shape=[-1,2*n])\n",
        "    x_sample1, x_sample2 = tf.split(x_shaped, num_or_size_splits=2)\n",
        "    y_sample1, y_sample2 = tf.split(y_shaped, num_or_size_splits=2)\n",
        "    joint_sample = tf.concat([x_sample1, y_sample1], axis=1)\n",
        "    marg_sample = tf.concat([x_sample2, y_sample1], axis=1)\n",
        "    return joint_sample, marg_sample"
      ],
      "execution_count": 0,
      "outputs": []
    },
    {
      "cell_type": "code",
      "metadata": {
        "id": "Tuf3BQ1dhl1F",
        "colab_type": "code",
        "colab": {}
      },
      "source": [
        "def train_mi(n_epochs=5, n_steps=20, batch_size=200):\n",
        "    for epoch in range(1, n_epochs + 1): \n",
        "        print(\"Training in Epoch {}/{}\".format(epoch, n_epochs)) \n",
        "        for step in range(1, n_steps + 1):\n",
        "            X_batch = random_sample(batch_size*2)\n",
        "            loss = mi_train_step(X_batch)\n",
        "            mi_avg = -mean_loss(loss)\n",
        "        print('Epoch: {}, Mi is {}'.format(epoch, mi_avg))\n",
        "        mean_loss.reset_states()\n",
        "\n",
        "@tf.function  \n",
        "def mi_train_step(X_batch):\n",
        "  with tf.GradientTape() as tape:\n",
        "    x_enc = encoder(X_batch, training=True)\n",
        "    y_recv = channel(x_enc)\n",
        "    joint_marg_s = split_train_data(x_enc, y_recv)\n",
        "    loss = -MI_mod(joint_marg_s)\n",
        "    gradients = tape.gradient(loss, MI_mod.trainable_variables) \n",
        "    optimizer_mi.apply_gradients(zip(gradients, MI_mod.trainable_variables))\n",
        "  return loss"
      ],
      "execution_count": 0,
      "outputs": []
    },
    {
      "cell_type": "markdown",
      "metadata": {
        "id": "zB73RkszjT9j",
        "colab_type": "text"
      },
      "source": [
        "## Training Function"
      ]
    },
    {
      "cell_type": "code",
      "metadata": {
        "id": "_sUbcMOpjUGr",
        "colab_type": "code",
        "colab": {}
      },
      "source": [
        "def train_decoder(n_epochs=5, n_steps=20, batch_size=200, plot_encoding=True):\n",
        "    for epoch in range(1, n_epochs + 1): \n",
        "        print(\"Training Bob in Epoch {}/{}\".format(epoch, n_epochs)) \n",
        "        for step in range(1, n_steps + 1):\n",
        "            X_batch  = random_sample(batch_size)\n",
        "            loss, y_pred = dec_train_step(X_batch)\n",
        "            mean_loss(loss)\n",
        "            plot_loss(step, epoch, mean_loss, X_batch, y_pred, plot_encoding)\n",
        "        plot_batch_loss(epoch, mean_loss, X_batch, y_pred) \n",
        "        mean_loss.reset_states()\n",
        "\n",
        "@tf.function\n",
        "def dec_train_step(X_batch):\n",
        "  with tf.GradientTape() as tape:\n",
        "    y_pred = autoencoder(X_batch, training=True)\n",
        "    loss = tf.reduce_mean(loss_fn(X_batch, y_pred))\n",
        "    gradients = tape.gradient(loss, decoder.trainable_variables) \n",
        "    optimizer_ae.apply_gradients(zip(gradients, decoder.trainable_variables)) \n",
        "  return loss, y_pred\n"
      ],
      "execution_count": 0,
      "outputs": []
    },
    {
      "cell_type": "code",
      "metadata": {
        "id": "gofvRVrTk_9L",
        "colab_type": "code",
        "colab": {}
      },
      "source": [
        "def train_encoder(n_epochs=5, n_steps=20, batch_size=200):\n",
        "    for epoch in range(1, n_epochs + 1): \n",
        "        print(\"Training Bob in Epoch {}/{}\".format(epoch, n_epochs)) \n",
        "        for step in range(1, n_steps + 1):\n",
        "            X_batch  = random_sample(batch_size)\n",
        "            loss = enc_train_step1(X_batch,optimizer_ae)               \n",
        "            mi_avg = -mean_loss(loss)\n",
        "        X_batch  = random_sample(batch_size) \n",
        "        enc_train_step2(X_batch)\n",
        "        print('Epoch: {}, Mi is {}'.format(epoch, mi_avg))\n",
        "       # test_encoding(M, 1)\n",
        "\n",
        "@tf.function\n",
        "def enc_train_step1(X_batch,optimizer_ae):\n",
        "  with tf.GradientTape() as tape:\n",
        "    x_enc = encoder(X_batch, training=True)\n",
        "    y_recv = channel(x_enc)\n",
        "    joint_marg_s = split_train_data(x_enc, y_recv)\n",
        "    loss = -MI_mod(joint_marg_s)\n",
        "    gradients = tape.gradient(loss, encoder.trainable_variables) \n",
        "    optimizer_ae.apply_gradients(zip(gradients, encoder.trainable_variables))\n",
        "  return loss\n",
        "\n",
        "@tf.function\n",
        "def enc_train_step2(X_batch):\n",
        "  with tf.GradientTape() as tape:\n",
        "    x_enc = encoder(X_batch, training=True)\n",
        "    y_recv = channel(x_enc)\n",
        "    joint_marg_s = split_train_data(x_enc, y_recv)\n",
        "    loss = -MI_mod(joint_marg_s)\n",
        "    gradients = tape.gradient(loss, MI_mod.trainable_variables) \n",
        "    optimizer_mi.apply_gradients(zip(gradients, MI_mod.trainable_variables))"
      ],
      "execution_count": 0,
      "outputs": []
    },
    {
      "cell_type": "code",
      "metadata": {
        "colab_type": "code",
        "id": "eHGEqRx5Q7ML",
        "colab": {}
      },
      "source": [
        "def train_encoder2(n_epochs=5, n_steps=20, batch_size=200):\n",
        "    for epoch in range(1, n_epochs + 1): \n",
        "        print(\"Training Bob in Epoch {}/{}\".format(epoch, n_epochs)) \n",
        "        for step in range(1, n_steps + 1):\n",
        "            X_batch  = random_sample(batch_size)\n",
        "            loss = enc_train_step12(X_batch)\n",
        "            mi_avg = -mean_loss(loss)\n",
        "        X_batch  = random_sample(batch_size) \n",
        "        enc_train_step2(X_batch)\n",
        "        print('Epoch: {}, Mi is {}'.format(epoch, mi_avg))\n",
        "       # test_encoding(M, 1)\n",
        "\n",
        "@tf.function\n",
        "def enc_train_step12(X_batch):\n",
        "  with tf.GradientTape() as tape:\n",
        "    x_enc = encoder(X_batch, training=True)\n",
        "    y_recv = channel(x_enc)\n",
        "    joint_marg_s = split_train_data(x_enc, y_recv)\n",
        "    loss = -MI_mod(joint_marg_s)\n",
        "    gradients = tape.gradient(loss, encoder.trainable_variables) \n",
        "    optimizer_ae2.apply_gradients(zip(gradients, encoder.trainable_variables))\n",
        "  return loss\n"
      ],
      "execution_count": 0,
      "outputs": []
    },
    {
      "cell_type": "code",
      "metadata": {
        "id": "cfFUT6DwlmvJ",
        "colab_type": "code",
        "colab": {}
      },
      "source": [
        "# test msg sequence for normal encoding\n",
        "N_test = 500000\n",
        "test_msg = np.random.randint(M, size=N_test)"
      ],
      "execution_count": 0,
      "outputs": []
    },
    {
      "cell_type": "code",
      "metadata": {
        "id": "xVXMlZzTlz8i",
        "colab_type": "code",
        "colab": {}
      },
      "source": [
        "def Test_AE(data):\n",
        "    '''Calculate Bit Error for varying SNRs'''\n",
        "    snr_range = np.linspace(0, 15, 31)\n",
        "    bber_vec = [None] * len(snr_range)\n",
        "        \n",
        "    for db in range(len(snr_range)):           \n",
        "        noise_std = EbNo_to_noise(snr_range[db])\n",
        "        code_word = encoder(data)\n",
        "        rcvd_word = code_word + tf.random.normal(tf.shape(code_word), mean=0.0, stddev=noise_std)\n",
        "        dcoded_msg = decoder(rcvd_word)\n",
        "        bber_vec[db] = B_Ber_m(data, dcoded_msg)\n",
        "        if (db % 6 == 0) & (db > 0):\n",
        "            print(f'Progress: {db} of {30} parts')\n",
        "\n",
        "    return (snr_range, bber_vec)"
      ],
      "execution_count": 0,
      "outputs": []
    },
    {
      "cell_type": "code",
      "metadata": {
        "id": "vFKf3kxv6h1l",
        "colab_type": "code",
        "colab": {}
      },
      "source": [
        "time_to_train_MI = 0\n",
        "time_to_train_enc = 0\n",
        "time_to_train_dec = 0\n",
        "\n",
        "samples_for_training = 0"
      ],
      "execution_count": 0,
      "outputs": []
    },
    {
      "cell_type": "code",
      "metadata": {
        "id": "wZQLuwHHl1Gj",
        "colab_type": "code",
        "outputId": "05bb41aa-be79-4292-e9ef-b912bc209a57",
        "colab": {
          "base_uri": "https://localhost:8080/",
          "height": 1000
        }
      },
      "source": [
        "%%time\n",
        "start_mi = time.time()\n",
        "optimizer_mi = keras.optimizers.Nadam(lr=0.005)\n",
        "train_mi(n_epochs=1, n_steps=500, batch_size=128)\n",
        "samples_for_training += 2*(1*128*500)                                      #could be smaller if used the same data for the n_steps\n",
        "time_to_train_MI += time.time()-start_mi\n",
        "\n",
        "start_enc1 = time.time()\n",
        "optimizer_ae = keras.optimizers.Nadam(lr=0.005)\n",
        "train_encoder(n_epochs=5, n_steps=400, batch_size=500)\n",
        "samples_for_training += (5*500) + (5*500*400)\n",
        "time_to_train_enc += time.time() - start_enc1\n",
        "test_encoding(M, 1)\n",
        "\n",
        "start_enc2 = time.time()\n",
        "optimizer_ae2 = keras.optimizers.Nadam(lr=0.0005)\n",
        "train_encoder(n_epochs=5, n_steps=400, batch_size=500)\n",
        "samples_for_training += (5*500) + (5*500*400)\n",
        "time_to_train_enc += time.time() - start_enc2\n",
        "test_encoding(M, 1)\n",
        "\n",
        "start_dec = time.time()\n",
        "optimizer_ae = keras.optimizers.Nadam(lr=0.005)\n",
        "train_decoder(n_epochs=5, n_steps=400, batch_size=500, plot_encoding=False)\n",
        "samples_for_training += 5*400*500\n",
        "time_to_train_dec += time.time() - start_dec"
      ],
      "execution_count": 20,
      "outputs": [
        {
          "output_type": "stream",
          "text": [
            "Training in Epoch 1/1\n",
            "Epoch: 1, Mi is 1.9693505764007568\n",
            "Training Bob in Epoch 1/5\n",
            "Epoch: 1, Mi is 2.488828420639038\n",
            "Training Bob in Epoch 2/5\n",
            "Epoch: 2, Mi is 2.5114614963531494\n",
            "Training Bob in Epoch 3/5\n",
            "Epoch: 3, Mi is 2.513744592666626\n",
            "Training Bob in Epoch 4/5\n",
            "Epoch: 4, Mi is 2.5179672241210938\n",
            "Training Bob in Epoch 5/5\n",
            "Epoch: 5, Mi is 2.51840877532959\n"
          ],
          "name": "stdout"
        },
        {
          "output_type": "display_data",
          "data": {
            "image/png": "[encoded data removed]",
            "text/plain": [
              "<Figure size 288x288 with 1 Axes>"
            ]
          },
          "metadata": {
            "tags": []
          }
        },
        {
          "output_type": "stream",
          "text": [
            "Training Bob in Epoch 1/5\n",
            "Epoch: 1, Mi is 2.524855852127075\n",
            "Training Bob in Epoch 2/5\n",
            "Epoch: 2, Mi is 2.5303685665130615\n",
            "Training Bob in Epoch 3/5\n",
            "Epoch: 3, Mi is 2.5338523387908936\n",
            "Training Bob in Epoch 4/5\n",
            "Epoch: 4, Mi is 2.5399413108825684\n",
            "Training Bob in Epoch 5/5\n",
            "Epoch: 5, Mi is 2.542043685913086\n"
          ],
          "name": "stdout"
        },
        {
          "output_type": "display_data",
          "data": {
            "image/png": "[encoded data removed]",
            "text/plain": [
              "<Figure size 288x288 with 1 Axes>"
            ]
          },
          "metadata": {
            "tags": []
          }
        },
        {
          "output_type": "stream",
          "text": [
            "Training Bob in Epoch 1/5\n",
            "Iteration: 10, Epoch: 1, Loss: -2.52871, Batch_BER: 0.87400\n",
            "Iteration: 20, Epoch: 1, Loss: -2.51594, Batch_BER: 0.80000\n",
            "Iteration: 30, Epoch: 1, Loss: -2.50371, Batch_BER: 0.73000\n",
            "Iteration: 40, Epoch: 1, Loss: -2.49203, Batch_BER: 0.66600\n",
            "Iteration: 50, Epoch: 1, Loss: -2.48084, Batch_BER: 0.61200\n",
            "Iteration: 60, Epoch: 1, Loss: -2.47014, Batch_BER: 0.56200\n",
            "Iteration: 70, Epoch: 1, Loss: -2.45987, Batch_BER: 0.46400\n",
            "Iteration: 80, Epoch: 1, Loss: -2.44998, Batch_BER: 0.47400\n",
            "Iteration: 90, Epoch: 1, Loss: -2.44039, Batch_BER: 0.35600\n",
            "Iteration: 100, Epoch: 1, Loss: -2.43110, Batch_BER: 0.33800\n",
            "Iteration: 110, Epoch: 1, Loss: -2.42210, Batch_BER: 0.26400\n",
            "Iteration: 120, Epoch: 1, Loss: -2.41335, Batch_BER: 0.27800\n",
            "Iteration: 130, Epoch: 1, Loss: -2.40484, Batch_BER: 0.17800\n",
            "Iteration: 140, Epoch: 1, Loss: -2.39654, Batch_BER: 0.14600\n",
            "Iteration: 150, Epoch: 1, Loss: -2.38844, Batch_BER: 0.15000\n",
            "Iteration: 160, Epoch: 1, Loss: -2.38053, Batch_BER: 0.12800\n",
            "Iteration: 170, Epoch: 1, Loss: -2.37278, Batch_BER: 0.09800\n",
            "Iteration: 180, Epoch: 1, Loss: -2.36522, Batch_BER: 0.08200\n",
            "Iteration: 190, Epoch: 1, Loss: -2.35780, Batch_BER: 0.09800\n",
            "Iteration: 200, Epoch: 1, Loss: -2.35053, Batch_BER: 0.10200\n",
            "Iteration: 210, Epoch: 1, Loss: -2.34339, Batch_BER: 0.09800\n",
            "Iteration: 220, Epoch: 1, Loss: -2.33636, Batch_BER: 0.08000\n",
            "Iteration: 230, Epoch: 1, Loss: -2.32945, Batch_BER: 0.07000\n",
            "Iteration: 240, Epoch: 1, Loss: -2.32265, Batch_BER: 0.07600\n",
            "Iteration: 250, Epoch: 1, Loss: -2.31593, Batch_BER: 0.07000\n",
            "Iteration: 260, Epoch: 1, Loss: -2.30931, Batch_BER: 0.07400\n",
            "Iteration: 270, Epoch: 1, Loss: -2.30274, Batch_BER: 0.09800\n",
            "Iteration: 280, Epoch: 1, Loss: -2.29627, Batch_BER: 0.09000\n",
            "Iteration: 290, Epoch: 1, Loss: -2.28988, Batch_BER: 0.06400\n",
            "Iteration: 300, Epoch: 1, Loss: -2.28356, Batch_BER: 0.06000\n",
            "Iteration: 310, Epoch: 1, Loss: -2.27731, Batch_BER: 0.06400\n",
            "Iteration: 320, Epoch: 1, Loss: -2.27110, Batch_BER: 0.08600\n",
            "Iteration: 330, Epoch: 1, Loss: -2.26498, Batch_BER: 0.06600\n",
            "Iteration: 340, Epoch: 1, Loss: -2.25891, Batch_BER: 0.05600\n",
            "Iteration: 350, Epoch: 1, Loss: -2.25288, Batch_BER: 0.05400\n",
            "Iteration: 360, Epoch: 1, Loss: -2.24691, Batch_BER: 0.05800\n",
            "Iteration: 370, Epoch: 1, Loss: -2.24098, Batch_BER: 0.06200\n",
            "Iteration: 380, Epoch: 1, Loss: -2.23511, Batch_BER: 0.08200\n",
            "Iteration: 390, Epoch: 1, Loss: -2.22928, Batch_BER: 0.04800\n",
            "Iteration: 400, Epoch: 1, Loss: -2.22350, Batch_BER: 0.04600\n",
            "Interim result for Epoch: 1, Loss: -2.22350, Batch_BER: 0.04600\n",
            "Training Bob in Epoch 2/5\n",
            "Iteration: 10, Epoch: 2, Loss: 0.30559, Batch_BER: 0.07800\n",
            "Iteration: 20, Epoch: 2, Loss: 0.30420, Batch_BER: 0.07800\n",
            "Iteration: 30, Epoch: 2, Loss: 0.30218, Batch_BER: 0.06600\n",
            "Iteration: 40, Epoch: 2, Loss: 0.29854, Batch_BER: 0.05400\n",
            "Iteration: 50, Epoch: 2, Loss: 0.29307, Batch_BER: 0.04800\n",
            "Iteration: 60, Epoch: 2, Loss: 0.28981, Batch_BER: 0.05400\n",
            "Iteration: 70, Epoch: 2, Loss: 0.28758, Batch_BER: 0.07000\n",
            "Iteration: 80, Epoch: 2, Loss: 0.28440, Batch_BER: 0.06000\n",
            "Iteration: 90, Epoch: 2, Loss: 0.28174, Batch_BER: 0.06200\n",
            "Iteration: 100, Epoch: 2, Loss: 0.27891, Batch_BER: 0.06400\n",
            "Iteration: 110, Epoch: 2, Loss: 0.27648, Batch_BER: 0.04200\n",
            "Iteration: 120, Epoch: 2, Loss: 0.27481, Batch_BER: 0.08600\n",
            "Iteration: 130, Epoch: 2, Loss: 0.27302, Batch_BER: 0.06600\n",
            "Iteration: 140, Epoch: 2, Loss: 0.27106, Batch_BER: 0.05200\n",
            "Iteration: 150, Epoch: 2, Loss: 0.26948, Batch_BER: 0.07400\n",
            "Iteration: 160, Epoch: 2, Loss: 0.26774, Batch_BER: 0.06600\n",
            "Iteration: 170, Epoch: 2, Loss: 0.26567, Batch_BER: 0.06800\n",
            "Iteration: 180, Epoch: 2, Loss: 0.26377, Batch_BER: 0.07800\n",
            "Iteration: 190, Epoch: 2, Loss: 0.26234, Batch_BER: 0.07000\n",
            "Iteration: 200, Epoch: 2, Loss: 0.26076, Batch_BER: 0.06200\n",
            "Iteration: 210, Epoch: 2, Loss: 0.25910, Batch_BER: 0.06200\n",
            "Iteration: 220, Epoch: 2, Loss: 0.25754, Batch_BER: 0.06800\n",
            "Iteration: 230, Epoch: 2, Loss: 0.25643, Batch_BER: 0.06200\n",
            "Iteration: 240, Epoch: 2, Loss: 0.25482, Batch_BER: 0.05600\n",
            "Iteration: 250, Epoch: 2, Loss: 0.25375, Batch_BER: 0.07000\n",
            "Iteration: 260, Epoch: 2, Loss: 0.25232, Batch_BER: 0.03800\n",
            "Iteration: 270, Epoch: 2, Loss: 0.25080, Batch_BER: 0.06400\n",
            "Iteration: 280, Epoch: 2, Loss: 0.24989, Batch_BER: 0.06600\n",
            "Iteration: 290, Epoch: 2, Loss: 0.24861, Batch_BER: 0.06200\n",
            "Iteration: 300, Epoch: 2, Loss: 0.24748, Batch_BER: 0.08200\n",
            "Iteration: 310, Epoch: 2, Loss: 0.24633, Batch_BER: 0.04600\n",
            "Iteration: 320, Epoch: 2, Loss: 0.24503, Batch_BER: 0.06600\n",
            "Iteration: 330, Epoch: 2, Loss: 0.24381, Batch_BER: 0.05200\n",
            "Iteration: 340, Epoch: 2, Loss: 0.24263, Batch_BER: 0.06800\n",
            "Iteration: 350, Epoch: 2, Loss: 0.24171, Batch_BER: 0.06400\n",
            "Iteration: 360, Epoch: 2, Loss: 0.24086, Batch_BER: 0.06000\n",
            "Iteration: 370, Epoch: 2, Loss: 0.23979, Batch_BER: 0.05600\n",
            "Iteration: 380, Epoch: 2, Loss: 0.23868, Batch_BER: 0.05600\n",
            "Iteration: 390, Epoch: 2, Loss: 0.23763, Batch_BER: 0.06800\n",
            "Iteration: 400, Epoch: 2, Loss: 0.23665, Batch_BER: 0.05600\n",
            "Interim result for Epoch: 2, Loss: 0.23665, Batch_BER: 0.05600\n",
            "Training Bob in Epoch 3/5\n",
            "Iteration: 10, Epoch: 3, Loss: 0.19957, Batch_BER: 0.05200\n",
            "Iteration: 20, Epoch: 3, Loss: 0.19811, Batch_BER: 0.06600\n",
            "Iteration: 30, Epoch: 3, Loss: 0.19734, Batch_BER: 0.06400\n",
            "Iteration: 40, Epoch: 3, Loss: 0.19588, Batch_BER: 0.06200\n",
            "Iteration: 50, Epoch: 3, Loss: 0.19534, Batch_BER: 0.05200\n",
            "Iteration: 60, Epoch: 3, Loss: 0.19626, Batch_BER: 0.07000\n",
            "Iteration: 70, Epoch: 3, Loss: 0.19682, Batch_BER: 0.06800\n",
            "Iteration: 80, Epoch: 3, Loss: 0.19702, Batch_BER: 0.06000\n",
            "Iteration: 90, Epoch: 3, Loss: 0.19789, Batch_BER: 0.07000\n",
            "Iteration: 100, Epoch: 3, Loss: 0.19710, Batch_BER: 0.04800\n",
            "Iteration: 110, Epoch: 3, Loss: 0.19650, Batch_BER: 0.07400\n",
            "Iteration: 120, Epoch: 3, Loss: 0.19628, Batch_BER: 0.06600\n",
            "Iteration: 130, Epoch: 3, Loss: 0.19591, Batch_BER: 0.05400\n",
            "Iteration: 140, Epoch: 3, Loss: 0.19617, Batch_BER: 0.05800\n",
            "Iteration: 150, Epoch: 3, Loss: 0.19559, Batch_BER: 0.06200\n",
            "Iteration: 160, Epoch: 3, Loss: 0.19577, Batch_BER: 0.07600\n",
            "Iteration: 170, Epoch: 3, Loss: 0.19493, Batch_BER: 0.07000\n",
            "Iteration: 180, Epoch: 3, Loss: 0.19464, Batch_BER: 0.05200\n",
            "Iteration: 190, Epoch: 3, Loss: 0.19393, Batch_BER: 0.06400\n",
            "Iteration: 200, Epoch: 3, Loss: 0.19425, Batch_BER: 0.07600\n",
            "Iteration: 210, Epoch: 3, Loss: 0.19392, Batch_BER: 0.06400\n",
            "Iteration: 220, Epoch: 3, Loss: 0.19396, Batch_BER: 0.04400\n",
            "Iteration: 230, Epoch: 3, Loss: 0.19389, Batch_BER: 0.06400\n",
            "Iteration: 240, Epoch: 3, Loss: 0.19352, Batch_BER: 0.05200\n",
            "Iteration: 250, Epoch: 3, Loss: 0.19274, Batch_BER: 0.05800\n",
            "Iteration: 260, Epoch: 3, Loss: 0.19261, Batch_BER: 0.05400\n",
            "Iteration: 270, Epoch: 3, Loss: 0.19212, Batch_BER: 0.06600\n",
            "Iteration: 280, Epoch: 3, Loss: 0.19151, Batch_BER: 0.05000\n",
            "Iteration: 290, Epoch: 3, Loss: 0.19112, Batch_BER: 0.05800\n",
            "Iteration: 300, Epoch: 3, Loss: 0.19101, Batch_BER: 0.05600\n",
            "Iteration: 310, Epoch: 3, Loss: 0.19050, Batch_BER: 0.05200\n",
            "Iteration: 320, Epoch: 3, Loss: 0.19016, Batch_BER: 0.05400\n",
            "Iteration: 330, Epoch: 3, Loss: 0.18995, Batch_BER: 0.06000\n",
            "Iteration: 340, Epoch: 3, Loss: 0.18942, Batch_BER: 0.05800\n",
            "Iteration: 350, Epoch: 3, Loss: 0.18952, Batch_BER: 0.05800\n",
            "Iteration: 360, Epoch: 3, Loss: 0.18925, Batch_BER: 0.06400\n",
            "Iteration: 370, Epoch: 3, Loss: 0.18900, Batch_BER: 0.06400\n",
            "Iteration: 380, Epoch: 3, Loss: 0.18872, Batch_BER: 0.05000\n",
            "Iteration: 390, Epoch: 3, Loss: 0.18840, Batch_BER: 0.05600\n",
            "Iteration: 400, Epoch: 3, Loss: 0.18837, Batch_BER: 0.05600\n",
            "Interim result for Epoch: 3, Loss: 0.18837, Batch_BER: 0.05600\n",
            "Training Bob in Epoch 4/5\n",
            "Iteration: 10, Epoch: 4, Loss: 0.18451, Batch_BER: 0.05800\n",
            "Iteration: 20, Epoch: 4, Loss: 0.17946, Batch_BER: 0.05400\n",
            "Iteration: 30, Epoch: 4, Loss: 0.18207, Batch_BER: 0.07400\n",
            "Iteration: 40, Epoch: 4, Loss: 0.18221, Batch_BER: 0.06600\n",
            "Iteration: 50, Epoch: 4, Loss: 0.18377, Batch_BER: 0.07200\n",
            "Iteration: 60, Epoch: 4, Loss: 0.18227, Batch_BER: 0.08000\n",
            "Iteration: 70, Epoch: 4, Loss: 0.18208, Batch_BER: 0.05000\n",
            "Iteration: 80, Epoch: 4, Loss: 0.18189, Batch_BER: 0.06400\n",
            "Iteration: 90, Epoch: 4, Loss: 0.18148, Batch_BER: 0.05000\n",
            "Iteration: 100, Epoch: 4, Loss: 0.18073, Batch_BER: 0.05400\n",
            "Iteration: 110, Epoch: 4, Loss: 0.18104, Batch_BER: 0.06400\n",
            "Iteration: 120, Epoch: 4, Loss: 0.18176, Batch_BER: 0.05200\n",
            "Iteration: 130, Epoch: 4, Loss: 0.18154, Batch_BER: 0.07400\n",
            "Iteration: 140, Epoch: 4, Loss: 0.18162, Batch_BER: 0.06000\n",
            "Iteration: 150, Epoch: 4, Loss: 0.18131, Batch_BER: 0.05200\n",
            "Iteration: 160, Epoch: 4, Loss: 0.18152, Batch_BER: 0.06600\n",
            "Iteration: 170, Epoch: 4, Loss: 0.18266, Batch_BER: 0.08000\n",
            "Iteration: 180, Epoch: 4, Loss: 0.18193, Batch_BER: 0.06200\n",
            "Iteration: 190, Epoch: 4, Loss: 0.18204, Batch_BER: 0.06400\n",
            "Iteration: 200, Epoch: 4, Loss: 0.18147, Batch_BER: 0.06000\n",
            "Iteration: 210, Epoch: 4, Loss: 0.18152, Batch_BER: 0.05400\n",
            "Iteration: 220, Epoch: 4, Loss: 0.18173, Batch_BER: 0.07600\n",
            "Iteration: 230, Epoch: 4, Loss: 0.18181, Batch_BER: 0.08200\n",
            "Iteration: 240, Epoch: 4, Loss: 0.18132, Batch_BER: 0.06400\n",
            "Iteration: 250, Epoch: 4, Loss: 0.18110, Batch_BER: 0.07000\n",
            "Iteration: 260, Epoch: 4, Loss: 0.18087, Batch_BER: 0.05600\n",
            "Iteration: 270, Epoch: 4, Loss: 0.18106, Batch_BER: 0.07600\n",
            "Iteration: 280, Epoch: 4, Loss: 0.18074, Batch_BER: 0.06200\n",
            "Iteration: 290, Epoch: 4, Loss: 0.18030, Batch_BER: 0.05400\n",
            "Iteration: 300, Epoch: 4, Loss: 0.18059, Batch_BER: 0.07600\n",
            "Iteration: 310, Epoch: 4, Loss: 0.18042, Batch_BER: 0.06800\n",
            "Iteration: 320, Epoch: 4, Loss: 0.18041, Batch_BER: 0.07200\n",
            "Iteration: 330, Epoch: 4, Loss: 0.18036, Batch_BER: 0.04600\n",
            "Iteration: 340, Epoch: 4, Loss: 0.18020, Batch_BER: 0.06800\n",
            "Iteration: 350, Epoch: 4, Loss: 0.18014, Batch_BER: 0.06400\n",
            "Iteration: 360, Epoch: 4, Loss: 0.18002, Batch_BER: 0.06400\n",
            "Iteration: 370, Epoch: 4, Loss: 0.18023, Batch_BER: 0.08600\n",
            "Iteration: 380, Epoch: 4, Loss: 0.18027, Batch_BER: 0.08800\n",
            "Iteration: 390, Epoch: 4, Loss: 0.18031, Batch_BER: 0.06400\n",
            "Iteration: 400, Epoch: 4, Loss: 0.17969, Batch_BER: 0.06000\n",
            "Interim result for Epoch: 4, Loss: 0.17969, Batch_BER: 0.06000\n",
            "Training Bob in Epoch 5/5\n",
            "Iteration: 10, Epoch: 5, Loss: 0.17470, Batch_BER: 0.05000\n",
            "Iteration: 20, Epoch: 5, Loss: 0.17807, Batch_BER: 0.06800\n",
            "Iteration: 30, Epoch: 5, Loss: 0.18065, Batch_BER: 0.07200\n",
            "Iteration: 40, Epoch: 5, Loss: 0.17528, Batch_BER: 0.04600\n",
            "Iteration: 50, Epoch: 5, Loss: 0.17699, Batch_BER: 0.06000\n",
            "Iteration: 60, Epoch: 5, Loss: 0.17562, Batch_BER: 0.07000\n",
            "Iteration: 70, Epoch: 5, Loss: 0.17358, Batch_BER: 0.05000\n",
            "Iteration: 80, Epoch: 5, Loss: 0.17294, Batch_BER: 0.06600\n",
            "Iteration: 90, Epoch: 5, Loss: 0.17354, Batch_BER: 0.06200\n",
            "Iteration: 100, Epoch: 5, Loss: 0.17293, Batch_BER: 0.07200\n",
            "Iteration: 110, Epoch: 5, Loss: 0.17419, Batch_BER: 0.06400\n",
            "Iteration: 120, Epoch: 5, Loss: 0.17434, Batch_BER: 0.07600\n",
            "Iteration: 130, Epoch: 5, Loss: 0.17287, Batch_BER: 0.04800\n",
            "Iteration: 140, Epoch: 5, Loss: 0.17290, Batch_BER: 0.05400\n",
            "Iteration: 150, Epoch: 5, Loss: 0.17295, Batch_BER: 0.06000\n",
            "Iteration: 160, Epoch: 5, Loss: 0.17313, Batch_BER: 0.05000\n",
            "Iteration: 170, Epoch: 5, Loss: 0.17379, Batch_BER: 0.05600\n",
            "Iteration: 180, Epoch: 5, Loss: 0.17371, Batch_BER: 0.06000\n",
            "Iteration: 190, Epoch: 5, Loss: 0.17294, Batch_BER: 0.06200\n",
            "Iteration: 200, Epoch: 5, Loss: 0.17291, Batch_BER: 0.06600\n",
            "Iteration: 210, Epoch: 5, Loss: 0.17307, Batch_BER: 0.05600\n",
            "Iteration: 220, Epoch: 5, Loss: 0.17300, Batch_BER: 0.06400\n",
            "Iteration: 230, Epoch: 5, Loss: 0.17231, Batch_BER: 0.04600\n",
            "Iteration: 240, Epoch: 5, Loss: 0.17275, Batch_BER: 0.05200\n",
            "Iteration: 250, Epoch: 5, Loss: 0.17239, Batch_BER: 0.06000\n",
            "Iteration: 260, Epoch: 5, Loss: 0.17221, Batch_BER: 0.06200\n",
            "Iteration: 270, Epoch: 5, Loss: 0.17258, Batch_BER: 0.08000\n",
            "Iteration: 280, Epoch: 5, Loss: 0.17280, Batch_BER: 0.06800\n",
            "Iteration: 290, Epoch: 5, Loss: 0.17288, Batch_BER: 0.06600\n",
            "Iteration: 300, Epoch: 5, Loss: 0.17351, Batch_BER: 0.05400\n",
            "Iteration: 310, Epoch: 5, Loss: 0.17363, Batch_BER: 0.06600\n",
            "Iteration: 320, Epoch: 5, Loss: 0.17376, Batch_BER: 0.07600\n",
            "Iteration: 330, Epoch: 5, Loss: 0.17392, Batch_BER: 0.05400\n",
            "Iteration: 340, Epoch: 5, Loss: 0.17420, Batch_BER: 0.06800\n",
            "Iteration: 350, Epoch: 5, Loss: 0.17417, Batch_BER: 0.06800\n",
            "Iteration: 360, Epoch: 5, Loss: 0.17388, Batch_BER: 0.05200\n",
            "Iteration: 370, Epoch: 5, Loss: 0.17395, Batch_BER: 0.06000\n",
            "Iteration: 380, Epoch: 5, Loss: 0.17439, Batch_BER: 0.07600\n",
            "Iteration: 390, Epoch: 5, Loss: 0.17446, Batch_BER: 0.05600\n",
            "Iteration: 400, Epoch: 5, Loss: 0.17430, Batch_BER: 0.06200\n",
            "Interim result for Epoch: 5, Loss: 0.17430, Batch_BER: 0.06200\n",
            "CPU times: user 49 s, sys: 2.28 s, total: 51.3 s\n",
            "Wall time: 33.4 s\n"
          ],
          "name": "stdout"
        }
      ]
    },
    {
      "cell_type": "code",
      "metadata": {
        "id": "N9dYDWne8UQN",
        "colab_type": "code",
        "colab": {
          "base_uri": "https://localhost:8080/",
          "height": 106
        },
        "outputId": "f62b4367-2db3-4244-f648-5ce40284b472"
      },
      "source": [
        "print('MI time',time_to_train_MI)\n",
        "print('Enc time',time_to_train_enc)\n",
        "print('Dec time',time_to_train_dec)\n",
        "print('time for training',(time_to_train_dec +time_to_train_enc+ time_to_train_MI))\n",
        "print('Samples used for training', samples_for_training )"
      ],
      "execution_count": 21,
      "outputs": [
        {
          "output_type": "stream",
          "text": [
            "MI time 3.965480089187622\n",
            "Enc time 23.960347890853882\n",
            "Dec time 4.98743462562561\n",
            "time for training 32.913262605667114\n",
            "Samples used for training 3133000\n"
          ],
          "name": "stdout"
        }
      ]
    },
    {
      "cell_type": "code",
      "metadata": {
        "id": "z-ELSw_ZnCXT",
        "colab_type": "code",
        "colab": {
          "base_uri": "https://localhost:8080/",
          "height": 106
        },
        "outputId": "642c4c35-f2f7-44ba-9ea6-0cbeae40f5ba"
      },
      "source": [
        "bber_data = Test_AE(test_msg)"
      ],
      "execution_count": 22,
      "outputs": [
        {
          "output_type": "stream",
          "text": [
            "Progress: 6 of 30 parts\n",
            "Progress: 12 of 30 parts\n",
            "Progress: 18 of 30 parts\n",
            "Progress: 24 of 30 parts\n",
            "Progress: 30 of 30 parts\n"
          ],
          "name": "stdout"
        }
      ]
    },
    {
      "cell_type": "code",
      "metadata": {
        "id": "eN-jOLPqTvrz",
        "colab_type": "code",
        "colab": {
          "base_uri": "https://localhost:8080/",
          "height": 352
        },
        "outputId": "5485b1f1-3e76-4a2b-ecbc-134650bac0c0"
      },
      "source": [
        "# Approximate 16 QAM Error\n",
        "def SIXT_QAM_sim(ebno):\n",
        "    return (3.0/2)*special.erfc(np.sqrt((4.0/10)*10.**(ebno/10)))\n",
        "\n",
        "ebnodbs = np.linspace(0,15,16)\n",
        "fig = plt.figure(figsize=(8, 5))\n",
        "plt.semilogy(bber_data[0], bber_data[1], 'o-')\n",
        "\n",
        "plt.semilogy(ebnodbs, SIXT_QAM_sim(ebnodbs), '^-');\n",
        "plt.gca().set_ylim(1e-5, 1)\n",
        "plt.gca().set_xlim(0, 15)\n",
        "plt.ylabel(\"Batch Symbol Error Rate\", fontsize=14, rotation=90)\n",
        "plt.xlabel(\"SNR [dB]\", fontsize=18)\n",
        "plt.legend(['AE with MINE', '16QAM'],\n",
        "           prop={'size': 14}, loc='upper right');\n",
        "plt.grid(True, which=\"both\")"
      ],
      "execution_count": 23,
      "outputs": [
        {
          "output_type": "display_data",
          "data": {
            "image/png": "[encoded data removed]",
            "text/plain": [
              "<Figure size 576x360 with 1 Axes>"
            ]
          },
          "metadata": {
            "tags": []
          }
        }
      ]
    },
    {
      "cell_type": "code",
      "metadata": {
        "id": "7Ai0b10W8XJl",
        "colab_type": "code",
        "colab": {}
      },
      "source": [
        ""
      ],
      "execution_count": 0,
      "outputs": []
    }
  ]
}