{
  "nbformat": 4,
  "nbformat_minor": 0,
  "metadata": {
    "colab": {
      "name": "Communication Autoencoder with MI channel estimation.ipynb",
      "provenance": [],
      "collapsed_sections": [],
      "include_colab_link": true
    },
    "kernelspec": {
      "name": "python3",
      "display_name": "Python 3"
    }
  },
  "cells": [
    {
      "cell_type": "markdown",
      "metadata": {
        "id": "view-in-github",
        "colab_type": "text"
      },
      "source": [
        "<a href=\"https://colab.research.google.com/github/BenYavor/Wireless_encoding_with_MI_estimation/blob/master/Communication_Autoencoder_with_MI_channel_estimation.ipynb\" target=\"_parent\"><img src=\"https://colab.research.google.com/assets/colab-badge.svg\" alt=\"Open In Colab\"/></a>"
      ]
    },
    {
      "cell_type": "code",
      "metadata": {
        "id": "EkWq8Zt_isjR",
        "colab_type": "code",
        "outputId": "1bd2a5ec-d5c8-4fca-b498-c145e90f564e",
        "colab": {
          "base_uri": "https://localhost:8080/",
          "height": 644
        }
      },
      "source": [
        "!pip install tensorflow==2.0.0 \n",
        "import sys\n",
        "assert sys.version_info >= (3, 5)\n",
        "import numpy as np\n",
        "%matplotlib inline\n",
        "import matplotlib as mpl\n",
        "import matplotlib.pyplot as plt\n",
        "mpl.rc('axes', labelsize=14)\n",
        "mpl.rc('xtick', labelsize=12)\n",
        "mpl.rc('ytick', labelsize=12)\n",
        "import tensorflow as tf\n",
        "from tensorflow import keras\n",
        "import pandas as pd\n",
        "from scipy import special\n",
        "from tensorflow.keras import layers\n",
        "np.random.seed(42)\n",
        "tf.random.set_seed(42)\n",
        "import time\n"
      ],
      "execution_count": 1,
      "outputs": [
        {
          "output_type": "stream",
          "text": [
            "Requirement already satisfied: tensorflow==2.0.0 in /usr/local/lib/python3.6/dist-packages (2.0.0)\n",
            "Requirement already satisfied: tensorboard<2.1.0,>=2.0.0 in /usr/local/lib/python3.6/dist-packages (from tensorflow==2.0.0) (2.0.2)\n",
            "Requirement already satisfied: absl-py>=0.7.0 in /usr/local/lib/python3.6/dist-packages (from tensorflow==2.0.0) (0.8.1)\n",
            "Requirement already satisfied: astor>=0.6.0 in /usr/local/lib/python3.6/dist-packages (from tensorflow==2.0.0) (0.8.0)\n",
            "Requirement already satisfied: termcolor>=1.1.0 in /usr/local/lib/python3.6/dist-packages (from tensorflow==2.0.0) (1.1.0)\n",
            "Requirement already satisfied: wrapt>=1.11.1 in /usr/local/lib/python3.6/dist-packages (from tensorflow==2.0.0) (1.11.2)\n",
            "Requirement already satisfied: keras-applications>=1.0.8 in /usr/local/lib/python3.6/dist-packages (from tensorflow==2.0.0) (1.0.8)\n",
            "Requirement already satisfied: gast==0.2.2 in /usr/local/lib/python3.6/dist-packages (from tensorflow==2.0.0) (0.2.2)\n",
            "Requirement already satisfied: grpcio>=1.8.6 in /usr/local/lib/python3.6/dist-packages (from tensorflow==2.0.0) (1.15.0)\n",
            "Requirement already satisfied: six>=1.10.0 in /usr/local/lib/python3.6/dist-packages (from tensorflow==2.0.0) (1.12.0)\n",
            "Requirement already satisfied: wheel>=0.26 in /usr/local/lib/python3.6/dist-packages (from tensorflow==2.0.0) (0.33.6)\n",
            "Requirement already satisfied: numpy<2.0,>=1.16.0 in /usr/local/lib/python3.6/dist-packages (from tensorflow==2.0.0) (1.17.4)\n",
            "Requirement already satisfied: protobuf>=3.6.1 in /usr/local/lib/python3.6/dist-packages (from tensorflow==2.0.0) (3.10.0)\n",
            "Requirement already satisfied: tensorflow-estimator<2.1.0,>=2.0.0 in /usr/local/lib/python3.6/dist-packages (from tensorflow==2.0.0) (2.0.1)\n",
            "Requirement already satisfied: keras-preprocessing>=1.0.5 in /usr/local/lib/python3.6/dist-packages (from tensorflow==2.0.0) (1.1.0)\n",
            "Requirement already satisfied: google-pasta>=0.1.6 in /usr/local/lib/python3.6/dist-packages (from tensorflow==2.0.0) (0.1.8)\n",
            "Requirement already satisfied: opt-einsum>=2.3.2 in /usr/local/lib/python3.6/dist-packages (from tensorflow==2.0.0) (3.1.0)\n",
            "Requirement already satisfied: setuptools>=41.0.0 in /usr/local/lib/python3.6/dist-packages (from tensorboard<2.1.0,>=2.0.0->tensorflow==2.0.0) (42.0.2)\n",
            "Requirement already satisfied: werkzeug>=0.11.15 in /usr/local/lib/python3.6/dist-packages (from tensorboard<2.1.0,>=2.0.0->tensorflow==2.0.0) (0.16.0)\n",
            "Requirement already satisfied: markdown>=2.6.8 in /usr/local/lib/python3.6/dist-packages (from tensorboard<2.1.0,>=2.0.0->tensorflow==2.0.0) (3.1.1)\n",
            "Requirement already satisfied: google-auth-oauthlib<0.5,>=0.4.1 in /usr/local/lib/python3.6/dist-packages (from tensorboard<2.1.0,>=2.0.0->tensorflow==2.0.0) (0.4.1)\n",
            "Requirement already satisfied: google-auth<2,>=1.6.3 in /usr/local/lib/python3.6/dist-packages (from tensorboard<2.1.0,>=2.0.0->tensorflow==2.0.0) (1.8.1)\n",
            "Requirement already satisfied: requests<3,>=2.21.0 in /usr/local/lib/python3.6/dist-packages (from tensorboard<2.1.0,>=2.0.0->tensorflow==2.0.0) (2.21.0)\n",
            "Requirement already satisfied: h5py in /usr/local/lib/python3.6/dist-packages (from keras-applications>=1.0.8->tensorflow==2.0.0) (2.8.0)\n",
            "Requirement already satisfied: requests-oauthlib>=0.7.0 in /usr/local/lib/python3.6/dist-packages (from google-auth-oauthlib<0.5,>=0.4.1->tensorboard<2.1.0,>=2.0.0->tensorflow==2.0.0) (1.3.0)\n",
            "Requirement already satisfied: pyasn1-modules>=0.2.1 in /usr/local/lib/python3.6/dist-packages (from google-auth<2,>=1.6.3->tensorboard<2.1.0,>=2.0.0->tensorflow==2.0.0) (0.2.7)\n",
            "Requirement already satisfied: rsa<4.1,>=3.1.4 in /usr/local/lib/python3.6/dist-packages (from google-auth<2,>=1.6.3->tensorboard<2.1.0,>=2.0.0->tensorflow==2.0.0) (4.0)\n",
            "Requirement already satisfied: cachetools<3.2,>=2.0.0 in /usr/local/lib/python3.6/dist-packages (from google-auth<2,>=1.6.3->tensorboard<2.1.0,>=2.0.0->tensorflow==2.0.0) (3.1.1)\n",
            "Requirement already satisfied: idna<2.9,>=2.5 in /usr/local/lib/python3.6/dist-packages (from requests<3,>=2.21.0->tensorboard<2.1.0,>=2.0.0->tensorflow==2.0.0) (2.8)\n",
            "Requirement already satisfied: chardet<3.1.0,>=3.0.2 in /usr/local/lib/python3.6/dist-packages (from requests<3,>=2.21.0->tensorboard<2.1.0,>=2.0.0->tensorflow==2.0.0) (3.0.4)\n",
            "Requirement already satisfied: urllib3<1.25,>=1.21.1 in /usr/local/lib/python3.6/dist-packages (from requests<3,>=2.21.0->tensorboard<2.1.0,>=2.0.0->tensorflow==2.0.0) (1.24.3)\n",
            "Requirement already satisfied: certifi>=2017.4.17 in /usr/local/lib/python3.6/dist-packages (from requests<3,>=2.21.0->tensorboard<2.1.0,>=2.0.0->tensorflow==2.0.0) (2019.11.28)\n",
            "Requirement already satisfied: oauthlib>=3.0.0 in /usr/local/lib/python3.6/dist-packages (from requests-oauthlib>=0.7.0->google-auth-oauthlib<0.5,>=0.4.1->tensorboard<2.1.0,>=2.0.0->tensorflow==2.0.0) (3.1.0)\n",
            "Requirement already satisfied: pyasn1<0.5.0,>=0.4.6 in /usr/local/lib/python3.6/dist-packages (from pyasn1-modules>=0.2.1->google-auth<2,>=1.6.3->tensorboard<2.1.0,>=2.0.0->tensorflow==2.0.0) (0.4.8)\n"
          ],
          "name": "stdout"
        }
      ]
    },
    {
      "cell_type": "code",
      "metadata": {
        "id": "MXJRVGze4Lgb",
        "colab_type": "code",
        "colab": {}
      },
      "source": [
        "M = 16\n",
        "k = int(np.log2(M))\n",
        "n = 1\n",
        "TRAINING_SNR = 7\n"
      ],
      "execution_count": 0,
      "outputs": []
    },
    {
      "cell_type": "code",
      "metadata": {
        "id": "oUypWuZ9jAcV",
        "colab_type": "code",
        "colab": {}
      },
      "source": [
        "def EbNo_to_noise(ebnodb):\n",
        "    '''Transform EbNo[dB]/snr to noise power'''\n",
        "    ebno = 10**(ebnodb/10)\n",
        "    noise_std = 1/np.sqrt(2*(k/n)*ebno) \n",
        "    return noise_std\n",
        "\n",
        "def SNR_to_noise(snrdb):\n",
        "    '''Transform EbNo[dB]/snr to noise power'''\n",
        "    snr = 10**(snrdb/10)\n",
        "    noise_std = 1/np.sqrt(2*snr)\n",
        "    return noise_std"
      ],
      "execution_count": 0,
      "outputs": []
    },
    {
      "cell_type": "code",
      "metadata": {
        "id": "x81YbgfUjDLE",
        "colab_type": "code",
        "colab": {}
      },
      "source": [
        "randN_05 = keras.initializers.RandomNormal(mean=0.0, stddev=0.05, seed=None)\n",
        "bias_init = keras.initializers.Constant(0.01)\n",
        "\n",
        "input_A = keras.layers.Input(shape=[4*n])\n",
        "input_B = keras.layers.Input(shape=[4*n])\n",
        "    \n",
        "transform = keras.models.Sequential([\n",
        "layers.Dense(128, bias_initializer=bias_init, kernel_initializer=randN_05, activation=\"relu\"),   #256\n",
        "#keras.layers.Dropout(rate=0.3), # To regularize higher dimensionality\n",
        "layers.Dense(128, bias_initializer=bias_init, kernel_initializer=randN_05, activation=\"relu\"),    #256\n",
        "#keras.layers.Dropout(rate=0.3), # To regularize higher dimensionality\n",
        "layers.Dense(1, bias_initializer=bias_init, kernel_initializer=randN_05, activation=None)])\n",
        "\n",
        "output_A = transform(input_A)\n",
        "output_B = transform(input_B)\n",
        "output_C = tf.reduce_mean(output_A) - tf.math.log(tf.reduce_mean(tf.exp(output_B))) # MINE\n",
        "MI_mod = keras.models.Model(inputs=[input_A, input_B], outputs=output_C)\n",
        "\n",
        "#print(MI_mod.inputs)\n",
        "#MI_mod.summary()\n",
        "#keras.utils.plot_model(MI_mod, 'Structure_of_MI_estimation.png', show_shapes=True)\n"
      ],
      "execution_count": 0,
      "outputs": []
    },
    {
      "cell_type": "code",
      "metadata": {
        "id": "E6C69Kzzi4cZ",
        "colab_type": "code",
        "colab": {}
      },
      "source": [
        "noise_std = EbNo_to_noise(TRAINING_SNR)\n",
        "# custom functions / layers without weights\n",
        "norm_layer = keras.layers.Lambda(lambda x: tf.divide(x,tf.sqrt(2*tf.reduce_mean(tf.square(x)))))\n",
        "shape_layer = keras.layers.Lambda(lambda x: tf.reshape(x, shape=[-1,2,n]))\n",
        "shape_layer2 = keras.layers.Lambda(lambda x: tf.reshape(x, shape=[-1,2*n]))\n",
        "channel_layer = keras.layers.Lambda(lambda x: \n",
        "                    x + tf.random.normal(tf.shape(x), mean=0.0, stddev=noise_std))\n",
        "\n",
        "encoder = keras.models.Sequential([\n",
        "            keras.layers.Embedding(M, M, embeddings_initializer='glorot_normal'),\n",
        "            keras.layers.Dense(M*4, activation=\"elu\"),                                 # M\n",
        "            keras.layers.Dense(M*4, activation=\"elu\"),                                 #optional\n",
        "            keras.layers.Dense(2*n, activation=None),\n",
        "            shape_layer,\n",
        "            norm_layer])\n",
        "\n",
        "channel = keras.models.Sequential([channel_layer])\n",
        "\n",
        "decoder = keras.models.Sequential([\n",
        "                keras.layers.InputLayer(input_shape=[2,n]),\n",
        "                shape_layer2,\n",
        "                keras.layers.Dense(M*4, activation=\"elu\"),                              #M\n",
        "                keras.layers.Dense(M*2, activation=\"elu\"),                              #optional\n",
        "                keras.layers.Dense(M, activation=\"softmax\")\n",
        "                ])\n",
        "\n",
        "autoencoder = keras.models.Sequential([encoder, channel, decoder])"
      ],
      "execution_count": 0,
      "outputs": []
    },
    {
      "cell_type": "code",
      "metadata": {
        "id": "PA9p9oXcjIa4",
        "colab_type": "code",
        "colab": {}
      },
      "source": [
        "def B_Ber_m(input_msg, msg):\n",
        "    '''Calculate the Batch Bit Error Rate'''\n",
        "    pred_error = tf.not_equal(input_msg, tf.argmax(msg, 1))      \n",
        "    bber = tf.reduce_mean(tf.cast(pred_error, tf.float32))\n",
        "    return bber"
      ],
      "execution_count": 0,
      "outputs": []
    },
    {
      "cell_type": "code",
      "metadata": {
        "id": "l75z0TB6jKOV",
        "colab_type": "code",
        "colab": {}
      },
      "source": [
        "def random_sample(batch_size=32):\n",
        "    msg = np.random.randint(M, size=batch_size)\n",
        "    return msg"
      ],
      "execution_count": 0,
      "outputs": []
    },
    {
      "cell_type": "code",
      "metadata": {
        "id": "9yqE4rYojNw_",
        "colab_type": "code",
        "colab": {}
      },
      "source": [
        "def test_encoding(M=16, n=1):\n",
        "    inp = np.arange(0,M)\n",
        "    coding = encoder.predict(inp)\n",
        "    fig = plt.figure(figsize=(4,4))\n",
        "    plt.plot(coding[:,0], coding[:, 1], \"b.\")\n",
        "    plt.xlabel(\"$x_1$\", fontsize=18)\n",
        "    plt.ylabel(\"$x_2$\", fontsize=18, rotation=0)\n",
        "    plt.grid(True)\n",
        "    plt.gca().set_ylim(-2, 2)\n",
        "    plt.gca().set_xlim(-2, 2)\n",
        "    plt.show()\n",
        "\n",
        "def test_noisy_codeword(data):\n",
        "    rcvd_word = data[1:2000]\n",
        "    fig = plt.figure(figsize=(4,4))\n",
        "    plt.plot(rcvd_word[:,0], rcvd_word[:, 1], \"b.\")\n",
        "    plt.xlabel(\"$x_1$\", fontsize=18)\n",
        "    plt.ylabel(\"$x_2$\", fontsize=18, rotation=0)\n",
        "    plt.grid(True)\n",
        "    plt.gca().set_ylim(-2, 2)\n",
        "    plt.gca().set_xlim(-2, 2)\n",
        "    plt.show()"
      ],
      "execution_count": 0,
      "outputs": []
    },
    {
      "cell_type": "code",
      "metadata": {
        "id": "YMwTXx4qjQgY",
        "colab_type": "code",
        "colab": {}
      },
      "source": [
        "loss_fn = keras.losses.SparseCategoricalCrossentropy()\n",
        "mean_loss = keras.metrics.Mean()"
      ],
      "execution_count": 0,
      "outputs": []
    },
    {
      "cell_type": "code",
      "metadata": {
        "id": "afmRKoJ8jTGx",
        "colab_type": "code",
        "colab": {}
      },
      "source": [
        "def plot_loss(step, epoch, mean_loss, X_batch, y_pred, plot_encoding):\n",
        "    template = 'Iteration: {}, Epoch: {}, Loss: {:.5f}, Batch_BER: {:.5f}'\n",
        "    if step % 10 == 0:\n",
        "        print(template.format(step, epoch, mean_loss.result(), B_Ber_m(X_batch, y_pred)))\n",
        "        if plot_encoding:\n",
        "            test_encoding()"
      ],
      "execution_count": 0,
      "outputs": []
    },
    {
      "cell_type": "code",
      "metadata": {
        "id": "MUxXl-Hy4sCQ",
        "colab_type": "code",
        "colab": {}
      },
      "source": [
        "def plot_batch_loss(epoch, mean_loss, X_batch, y_pred):\n",
        "        template_outer_loop = 'Interim result for Epoch: {}, Loss: {:.5f}, Batch_BER: {:.5f}'\n",
        "        print(template_outer_loop.format(epoch, mean_loss.result(), B_Ber_m(X_batch, y_pred)))"
      ],
      "execution_count": 0,
      "outputs": []
    },
    {
      "cell_type": "code",
      "metadata": {
        "id": "2SI75bbcJ0bg",
        "colab_type": "code",
        "colab": {}
      },
      "source": [
        "def split_train_data(x_sample, y_sample):\n",
        "    x_shaped = tf.reshape(x_sample, shape=[-1,2*n])\n",
        "    y_shaped = tf.reshape(y_sample, shape=[-1,2*n])\n",
        "    x_sample1, x_sample2 = tf.split(x_shaped, num_or_size_splits=2)\n",
        "    y_sample1, y_sample2 = tf.split(y_shaped, num_or_size_splits=2)\n",
        "    joint_sample = tf.concat([x_sample1, y_sample1], axis=1)\n",
        "    marg_sample = tf.concat([x_sample2, y_sample1], axis=1)\n",
        "    return joint_sample, marg_sample"
      ],
      "execution_count": 0,
      "outputs": []
    },
    {
      "cell_type": "code",
      "metadata": {
        "id": "Tuf3BQ1dhl1F",
        "colab_type": "code",
        "colab": {}
      },
      "source": [
        "def train_mi(n_epochs=5, n_steps=20, batch_size=200):\n",
        "    for epoch in range(1, n_epochs + 1): \n",
        "        print(\"Training in Epoch {}/{}\".format(epoch, n_epochs)) \n",
        "        for step in range(1, n_steps + 1):\n",
        "            X_batch = random_sample(batch_size*2)\n",
        "            loss = mi_train_step(X_batch)\n",
        "            mi_avg = -mean_loss(loss)\n",
        "        print('Epoch: {}, Mi is {}'.format(epoch, mi_avg))\n",
        "        mean_loss.reset_states()\n",
        "\n",
        "@tf.function  \n",
        "def mi_train_step(X_batch):\n",
        "  with tf.GradientTape() as tape:\n",
        "    x_enc = encoder(X_batch, training=True)\n",
        "    y_recv = channel(x_enc)\n",
        "    joint_marg_s = split_train_data(x_enc, y_recv)\n",
        "    loss = -MI_mod(joint_marg_s)\n",
        "    gradients = tape.gradient(loss, MI_mod.trainable_variables) \n",
        "    optimizer_mi.apply_gradients(zip(gradients, MI_mod.trainable_variables))\n",
        "  return loss"
      ],
      "execution_count": 0,
      "outputs": []
    },
    {
      "cell_type": "markdown",
      "metadata": {
        "id": "zB73RkszjT9j",
        "colab_type": "text"
      },
      "source": [
        "## Training Function"
      ]
    },
    {
      "cell_type": "code",
      "metadata": {
        "id": "_sUbcMOpjUGr",
        "colab_type": "code",
        "colab": {}
      },
      "source": [
        "def train_decoder(n_epochs=5, n_steps=20, batch_size=200, plot_encoding=True):\n",
        "    for epoch in range(1, n_epochs + 1): \n",
        "        print(\"Training Bob in Epoch {}/{}\".format(epoch, n_epochs)) \n",
        "        for step in range(1, n_steps + 1):\n",
        "            X_batch  = random_sample(batch_size)\n",
        "            loss, y_pred = dec_train_step(X_batch)\n",
        "            mean_loss(loss)\n",
        "            plot_loss(step, epoch, mean_loss, X_batch, y_pred, plot_encoding)\n",
        "        plot_batch_loss(epoch, mean_loss, X_batch, y_pred) \n",
        "        mean_loss.reset_states()\n",
        "\n",
        "@tf.function\n",
        "def dec_train_step(X_batch):\n",
        "  with tf.GradientTape() as tape:\n",
        "    y_pred = autoencoder(X_batch, training=True)\n",
        "    loss = tf.reduce_mean(loss_fn(X_batch, y_pred))\n",
        "    gradients = tape.gradient(loss, decoder.trainable_variables) \n",
        "    optimizer_ae.apply_gradients(zip(gradients, decoder.trainable_variables)) \n",
        "  return loss, y_pred\n"
      ],
      "execution_count": 0,
      "outputs": []
    },
    {
      "cell_type": "code",
      "metadata": {
        "id": "gofvRVrTk_9L",
        "colab_type": "code",
        "colab": {}
      },
      "source": [
        "def train_encoder(n_epochs=5, n_steps=20, batch_size=200):\n",
        "    for epoch in range(1, n_epochs + 1): \n",
        "        print(\"Training Bob in Epoch {}/{}\".format(epoch, n_epochs)) \n",
        "        for step in range(1, n_steps + 1):\n",
        "            X_batch  = random_sample(batch_size)\n",
        "            loss = enc_train_step1(X_batch,optimizer_ae)               \n",
        "            mi_avg = -mean_loss(loss)\n",
        "        X_batch  = random_sample(batch_size) \n",
        "        enc_train_step2(X_batch)\n",
        "        print('Epoch: {}, Mi is {}'.format(epoch, mi_avg))\n",
        "       # test_encoding(M, 1)\n",
        "\n",
        "@tf.function\n",
        "def enc_train_step1(X_batch,optimizer_ae):\n",
        "  with tf.GradientTape() as tape:\n",
        "    x_enc = encoder(X_batch, training=True)\n",
        "    y_recv = channel(x_enc)\n",
        "    joint_marg_s = split_train_data(x_enc, y_recv)\n",
        "    loss = -MI_mod(joint_marg_s)\n",
        "    gradients = tape.gradient(loss, encoder.trainable_variables) \n",
        "    optimizer_ae.apply_gradients(zip(gradients, encoder.trainable_variables))\n",
        "  return loss\n",
        "\n",
        "@tf.function\n",
        "def enc_train_step2(X_batch):\n",
        "  with tf.GradientTape() as tape:\n",
        "    x_enc = encoder(X_batch, training=True)\n",
        "    y_recv = channel(x_enc)\n",
        "    joint_marg_s = split_train_data(x_enc, y_recv)\n",
        "    loss = -MI_mod(joint_marg_s)\n",
        "    gradients = tape.gradient(loss, MI_mod.trainable_variables) \n",
        "    optimizer_mi.apply_gradients(zip(gradients, MI_mod.trainable_variables))"
      ],
      "execution_count": 0,
      "outputs": []
    },
    {
      "cell_type": "code",
      "metadata": {
        "colab_type": "code",
        "id": "eHGEqRx5Q7ML",
        "colab": {}
      },
      "source": [
        "def train_encoder2(n_epochs=5, n_steps=20, batch_size=200):\n",
        "    for epoch in range(1, n_epochs + 1): \n",
        "        print(\"Training Bob in Epoch {}/{}\".format(epoch, n_epochs)) \n",
        "        for step in range(1, n_steps + 1):\n",
        "            X_batch  = random_sample(batch_size)\n",
        "            loss = enc_train_step12(X_batch)\n",
        "            mi_avg = -mean_loss(loss)\n",
        "        X_batch  = random_sample(batch_size) \n",
        "        enc_train_step2(X_batch)\n",
        "        print('Epoch: {}, Mi is {}'.format(epoch, mi_avg))\n",
        "       # test_encoding(M, 1)\n",
        "\n",
        "@tf.function\n",
        "def enc_train_step12(X_batch):\n",
        "  with tf.GradientTape() as tape:\n",
        "    x_enc = encoder(X_batch, training=True)\n",
        "    y_recv = channel(x_enc)\n",
        "    joint_marg_s = split_train_data(x_enc, y_recv)\n",
        "    loss = -MI_mod(joint_marg_s)\n",
        "    gradients = tape.gradient(loss, encoder.trainable_variables) \n",
        "    optimizer_ae2.apply_gradients(zip(gradients, encoder.trainable_variables))\n",
        "  return loss\n"
      ],
      "execution_count": 0,
      "outputs": []
    },
    {
      "cell_type": "code",
      "metadata": {
        "id": "cfFUT6DwlmvJ",
        "colab_type": "code",
        "colab": {}
      },
      "source": [
        "# test msg sequence for normal encoding\n",
        "N_test = 500000\n",
        "test_msg = np.random.randint(M, size=N_test)"
      ],
      "execution_count": 0,
      "outputs": []
    },
    {
      "cell_type": "code",
      "metadata": {
        "id": "xVXMlZzTlz8i",
        "colab_type": "code",
        "colab": {}
      },
      "source": [
        "def Test_AE(data):\n",
        "    '''Calculate Bit Error for varying SNRs'''\n",
        "    snr_range = np.linspace(0, 15, 31)\n",
        "    bber_vec = [None] * len(snr_range)\n",
        "        \n",
        "    for db in range(len(snr_range)):           \n",
        "        noise_std = EbNo_to_noise(snr_range[db])\n",
        "        code_word = encoder(data)\n",
        "        rcvd_word = code_word + tf.random.normal(tf.shape(code_word), mean=0.0, stddev=noise_std)\n",
        "        dcoded_msg = decoder(rcvd_word)\n",
        "        bber_vec[db] = B_Ber_m(data, dcoded_msg)\n",
        "        if (db % 6 == 0) & (db > 0):\n",
        "            print(f'Progress: {db} of {30} parts')\n",
        "\n",
        "    return (snr_range, bber_vec)"
      ],
      "execution_count": 0,
      "outputs": []
    },
    {
      "cell_type": "code",
      "metadata": {
        "id": "vFKf3kxv6h1l",
        "colab_type": "code",
        "colab": {}
      },
      "source": [
        "time_to_train_MI = 0\n",
        "time_to_train_enc = 0\n",
        "time_to_train_dec = 0\n",
        "\n",
        "samples_for_training = 0"
      ],
      "execution_count": 0,
      "outputs": []
    },
    {
      "cell_type": "code",
      "metadata": {
        "id": "wZQLuwHHl1Gj",
        "colab_type": "code",
        "outputId": "b0fa95b5-1443-4aee-d3ec-7321adcf691f",
        "colab": {
          "base_uri": "https://localhost:8080/",
          "height": 1000
        }
      },
      "source": [
        "%%time\n",
        "start_mi = time.time()\n",
        "optimizer_mi = keras.optimizers.Nadam(lr=0.005)\n",
        "train_mi(n_epochs=1, n_steps=500, batch_size=128)\n",
        "samples_for_training += 2*(1*128*500)                                      #could be smaller if used the same data for the n_steps\n",
        "time_to_train_MI += time.time()-start_mi\n",
        "\n",
        "start_enc1 = time.time()\n",
        "optimizer_ae = keras.optimizers.Nadam(lr=0.005)\n",
        "train_encoder(n_epochs=5, n_steps=400, batch_size=500)\n",
        "samples_for_training += (5*500) + (5*500*400)\n",
        "time_to_train_enc += time.time() - start_enc1\n",
        "test_encoding(M, 1)\n",
        "\n",
        "start_enc2 = time.time()\n",
        "optimizer_ae2 = keras.optimizers.Nadam(lr=0.0005)\n",
        "train_encoder(n_epochs=5, n_steps=400, batch_size=500)\n",
        "samples_for_training += (5*500) + (5*500*400)\n",
        "time_to_train_enc += time.time() - start_enc2\n",
        "test_encoding(M, 1)\n",
        "\n",
        "start_dec = time.time()\n",
        "optimizer_ae = keras.optimizers.Nadam(lr=0.005)\n",
        "train_decoder(n_epochs=5, n_steps=400, batch_size=500, plot_encoding=False)\n",
        "samples_for_training += 5*400*500\n",
        "time_to_train_dec += time.time() - start_dec"
      ],
      "execution_count": 20,
      "outputs": [
        {
          "output_type": "stream",
          "text": [
            "Training in Epoch 1/1\n",
            "Epoch: 1, Mi is 2.0942394733428955\n",
            "Training Bob in Epoch 1/5\n",
            "Epoch: 1, Mi is 2.486961603164673\n",
            "Training Bob in Epoch 2/5\n",
            "Epoch: 2, Mi is 2.502427101135254\n",
            "Training Bob in Epoch 3/5\n",
            "Epoch: 3, Mi is 2.5089645385742188\n",
            "Training Bob in Epoch 4/5\n",
            "Epoch: 4, Mi is 2.5212600231170654\n",
            "Training Bob in Epoch 5/5\n",
            "Epoch: 5, Mi is 2.519219160079956\n"
          ],
          "name": "stdout"
        },
        {
          "output_type": "display_data",
          "data": {
            "image/png": "[encoded data removed]",
            "text/plain": [
              "<Figure size 288x288 with 1 Axes>"
            ]
          },
          "metadata": {
            "tags": []
          }
        },
        {
          "output_type": "stream",
          "text": [
            "Training Bob in Epoch 1/5\n",
            "Epoch: 1, Mi is 2.519444704055786\n",
            "Training Bob in Epoch 2/5\n",
            "Epoch: 2, Mi is 2.5210564136505127\n",
            "Training Bob in Epoch 3/5\n",
            "Epoch: 3, Mi is 2.5233960151672363\n",
            "Training Bob in Epoch 4/5\n",
            "Epoch: 4, Mi is 2.5304205417633057\n",
            "Training Bob in Epoch 5/5\n",
            "Epoch: 5, Mi is 2.533249616622925\n"
          ],
          "name": "stdout"
        },
        {
          "output_type": "display_data",
          "data": {
            "image/png": "[encoded data removed]",
            "text/plain": [
              "<Figure size 288x288 with 1 Axes>"
            ]
          },
          "metadata": {
            "tags": []
          }
        },
        {
          "output_type": "stream",
          "text": [
            "Training Bob in Epoch 1/5\n",
            "Iteration: 10, Epoch: 1, Loss: -2.52076, Batch_BER: 0.68200\n",
            "Iteration: 20, Epoch: 1, Loss: -2.50990, Batch_BER: 0.50400\n",
            "Iteration: 30, Epoch: 1, Loss: -2.50036, Batch_BER: 0.29000\n",
            "Iteration: 40, Epoch: 1, Loss: -2.49184, Batch_BER: 0.13800\n",
            "Iteration: 50, Epoch: 1, Loss: -2.48412, Batch_BER: 0.06600\n",
            "Iteration: 60, Epoch: 1, Loss: -2.47693, Batch_BER: 0.07400\n",
            "Iteration: 70, Epoch: 1, Loss: -2.47005, Batch_BER: 0.06600\n",
            "Iteration: 80, Epoch: 1, Loss: -2.46332, Batch_BER: 0.07000\n",
            "Iteration: 90, Epoch: 1, Loss: -2.45671, Batch_BER: 0.06400\n",
            "Iteration: 100, Epoch: 1, Loss: -2.45019, Batch_BER: 0.07200\n",
            "Iteration: 110, Epoch: 1, Loss: -2.44372, Batch_BER: 0.07800\n",
            "Iteration: 120, Epoch: 1, Loss: -2.43733, Batch_BER: 0.04400\n",
            "Iteration: 130, Epoch: 1, Loss: -2.43095, Batch_BER: 0.07600\n",
            "Iteration: 140, Epoch: 1, Loss: -2.42463, Batch_BER: 0.05000\n",
            "Iteration: 150, Epoch: 1, Loss: -2.41834, Batch_BER: 0.05800\n",
            "Iteration: 160, Epoch: 1, Loss: -2.41211, Batch_BER: 0.05600\n",
            "Iteration: 170, Epoch: 1, Loss: -2.40585, Batch_BER: 0.08800\n",
            "Iteration: 180, Epoch: 1, Loss: -2.39968, Batch_BER: 0.06400\n",
            "Iteration: 190, Epoch: 1, Loss: -2.39353, Batch_BER: 0.05800\n",
            "Iteration: 200, Epoch: 1, Loss: -2.38743, Batch_BER: 0.05200\n",
            "Iteration: 210, Epoch: 1, Loss: -2.38134, Batch_BER: 0.04200\n",
            "Iteration: 220, Epoch: 1, Loss: -2.37528, Batch_BER: 0.03600\n",
            "Iteration: 230, Epoch: 1, Loss: -2.36924, Batch_BER: 0.07000\n",
            "Iteration: 240, Epoch: 1, Loss: -2.36323, Batch_BER: 0.07200\n",
            "Iteration: 250, Epoch: 1, Loss: -2.35726, Batch_BER: 0.05800\n",
            "Iteration: 260, Epoch: 1, Loss: -2.35132, Batch_BER: 0.05600\n",
            "Iteration: 270, Epoch: 1, Loss: -2.34542, Batch_BER: 0.08200\n",
            "Iteration: 280, Epoch: 1, Loss: -2.33953, Batch_BER: 0.07400\n",
            "Iteration: 290, Epoch: 1, Loss: -2.33367, Batch_BER: 0.04600\n",
            "Iteration: 300, Epoch: 1, Loss: -2.32781, Batch_BER: 0.04000\n",
            "Iteration: 310, Epoch: 1, Loss: -2.32201, Batch_BER: 0.06400\n",
            "Iteration: 320, Epoch: 1, Loss: -2.31624, Batch_BER: 0.05200\n",
            "Iteration: 330, Epoch: 1, Loss: -2.31049, Batch_BER: 0.07200\n",
            "Iteration: 340, Epoch: 1, Loss: -2.30477, Batch_BER: 0.06600\n",
            "Iteration: 350, Epoch: 1, Loss: -2.29908, Batch_BER: 0.06600\n",
            "Iteration: 360, Epoch: 1, Loss: -2.29339, Batch_BER: 0.05800\n",
            "Iteration: 370, Epoch: 1, Loss: -2.28775, Batch_BER: 0.06600\n",
            "Iteration: 380, Epoch: 1, Loss: -2.28211, Batch_BER: 0.06000\n",
            "Iteration: 390, Epoch: 1, Loss: -2.27652, Batch_BER: 0.06600\n",
            "Iteration: 400, Epoch: 1, Loss: -2.27094, Batch_BER: 0.07800\n",
            "Interim result for Epoch: 1, Loss: -2.27094, Batch_BER: 0.07800\n",
            "Training Bob in Epoch 2/5\n",
            "Iteration: 10, Epoch: 2, Loss: 0.17660, Batch_BER: 0.07800\n",
            "Iteration: 20, Epoch: 2, Loss: 0.17893, Batch_BER: 0.05800\n",
            "Iteration: 30, Epoch: 2, Loss: 0.17887, Batch_BER: 0.08400\n",
            "Iteration: 40, Epoch: 2, Loss: 0.17814, Batch_BER: 0.06000\n",
            "Iteration: 50, Epoch: 2, Loss: 0.17765, Batch_BER: 0.04600\n",
            "Iteration: 60, Epoch: 2, Loss: 0.17623, Batch_BER: 0.03800\n",
            "Iteration: 70, Epoch: 2, Loss: 0.17782, Batch_BER: 0.08600\n",
            "Iteration: 80, Epoch: 2, Loss: 0.17689, Batch_BER: 0.05000\n",
            "Iteration: 90, Epoch: 2, Loss: 0.17703, Batch_BER: 0.04200\n",
            "Iteration: 100, Epoch: 2, Loss: 0.17647, Batch_BER: 0.05000\n",
            "Iteration: 110, Epoch: 2, Loss: 0.17467, Batch_BER: 0.04600\n",
            "Iteration: 120, Epoch: 2, Loss: 0.17479, Batch_BER: 0.06400\n",
            "Iteration: 130, Epoch: 2, Loss: 0.17413, Batch_BER: 0.05200\n",
            "Iteration: 140, Epoch: 2, Loss: 0.17418, Batch_BER: 0.08000\n",
            "Iteration: 150, Epoch: 2, Loss: 0.17368, Batch_BER: 0.06200\n",
            "Iteration: 160, Epoch: 2, Loss: 0.17370, Batch_BER: 0.08200\n",
            "Iteration: 170, Epoch: 2, Loss: 0.17426, Batch_BER: 0.08400\n",
            "Iteration: 180, Epoch: 2, Loss: 0.17443, Batch_BER: 0.04200\n",
            "Iteration: 190, Epoch: 2, Loss: 0.17430, Batch_BER: 0.05800\n",
            "Iteration: 200, Epoch: 2, Loss: 0.17491, Batch_BER: 0.07800\n",
            "Iteration: 210, Epoch: 2, Loss: 0.17450, Batch_BER: 0.08200\n",
            "Iteration: 220, Epoch: 2, Loss: 0.17488, Batch_BER: 0.05800\n",
            "Iteration: 230, Epoch: 2, Loss: 0.17462, Batch_BER: 0.05800\n",
            "Iteration: 240, Epoch: 2, Loss: 0.17497, Batch_BER: 0.07400\n",
            "Iteration: 250, Epoch: 2, Loss: 0.17503, Batch_BER: 0.06400\n",
            "Iteration: 260, Epoch: 2, Loss: 0.17480, Batch_BER: 0.06800\n",
            "Iteration: 270, Epoch: 2, Loss: 0.17486, Batch_BER: 0.06600\n",
            "Iteration: 280, Epoch: 2, Loss: 0.17494, Batch_BER: 0.07800\n",
            "Iteration: 290, Epoch: 2, Loss: 0.17508, Batch_BER: 0.05800\n",
            "Iteration: 300, Epoch: 2, Loss: 0.17506, Batch_BER: 0.04600\n",
            "Iteration: 310, Epoch: 2, Loss: 0.17499, Batch_BER: 0.07800\n",
            "Iteration: 320, Epoch: 2, Loss: 0.17490, Batch_BER: 0.07800\n",
            "Iteration: 330, Epoch: 2, Loss: 0.17465, Batch_BER: 0.05200\n",
            "Iteration: 340, Epoch: 2, Loss: 0.17462, Batch_BER: 0.05800\n",
            "Iteration: 350, Epoch: 2, Loss: 0.17445, Batch_BER: 0.07000\n",
            "Iteration: 360, Epoch: 2, Loss: 0.17428, Batch_BER: 0.05800\n",
            "Iteration: 370, Epoch: 2, Loss: 0.17427, Batch_BER: 0.06200\n",
            "Iteration: 380, Epoch: 2, Loss: 0.17422, Batch_BER: 0.06400\n",
            "Iteration: 390, Epoch: 2, Loss: 0.17410, Batch_BER: 0.05400\n",
            "Iteration: 400, Epoch: 2, Loss: 0.17384, Batch_BER: 0.06000\n",
            "Interim result for Epoch: 2, Loss: 0.17384, Batch_BER: 0.06000\n",
            "Training Bob in Epoch 3/5\n",
            "Iteration: 10, Epoch: 3, Loss: 0.18245, Batch_BER: 0.05800\n",
            "Iteration: 20, Epoch: 3, Loss: 0.17921, Batch_BER: 0.06800\n",
            "Iteration: 30, Epoch: 3, Loss: 0.17374, Batch_BER: 0.06000\n",
            "Iteration: 40, Epoch: 3, Loss: 0.17179, Batch_BER: 0.07400\n",
            "Iteration: 50, Epoch: 3, Loss: 0.17223, Batch_BER: 0.07400\n",
            "Iteration: 60, Epoch: 3, Loss: 0.17273, Batch_BER: 0.05400\n",
            "Iteration: 70, Epoch: 3, Loss: 0.17240, Batch_BER: 0.06600\n",
            "Iteration: 80, Epoch: 3, Loss: 0.17329, Batch_BER: 0.05800\n",
            "Iteration: 90, Epoch: 3, Loss: 0.17437, Batch_BER: 0.07800\n",
            "Iteration: 100, Epoch: 3, Loss: 0.17559, Batch_BER: 0.05800\n",
            "Iteration: 110, Epoch: 3, Loss: 0.17670, Batch_BER: 0.06200\n",
            "Iteration: 120, Epoch: 3, Loss: 0.17636, Batch_BER: 0.06800\n",
            "Iteration: 130, Epoch: 3, Loss: 0.17724, Batch_BER: 0.05600\n",
            "Iteration: 140, Epoch: 3, Loss: 0.17784, Batch_BER: 0.08400\n",
            "Iteration: 150, Epoch: 3, Loss: 0.17776, Batch_BER: 0.07000\n",
            "Iteration: 160, Epoch: 3, Loss: 0.17816, Batch_BER: 0.08000\n",
            "Iteration: 170, Epoch: 3, Loss: 0.17735, Batch_BER: 0.05000\n",
            "Iteration: 180, Epoch: 3, Loss: 0.17712, Batch_BER: 0.06200\n",
            "Iteration: 190, Epoch: 3, Loss: 0.17790, Batch_BER: 0.06800\n",
            "Iteration: 200, Epoch: 3, Loss: 0.17789, Batch_BER: 0.07000\n",
            "Iteration: 210, Epoch: 3, Loss: 0.17754, Batch_BER: 0.06000\n",
            "Iteration: 220, Epoch: 3, Loss: 0.17796, Batch_BER: 0.07200\n",
            "Iteration: 230, Epoch: 3, Loss: 0.17781, Batch_BER: 0.08000\n",
            "Iteration: 240, Epoch: 3, Loss: 0.17786, Batch_BER: 0.04200\n",
            "Iteration: 250, Epoch: 3, Loss: 0.17759, Batch_BER: 0.06000\n",
            "Iteration: 260, Epoch: 3, Loss: 0.17763, Batch_BER: 0.07200\n",
            "Iteration: 270, Epoch: 3, Loss: 0.17739, Batch_BER: 0.05600\n",
            "Iteration: 280, Epoch: 3, Loss: 0.17774, Batch_BER: 0.06200\n",
            "Iteration: 290, Epoch: 3, Loss: 0.17781, Batch_BER: 0.06600\n",
            "Iteration: 300, Epoch: 3, Loss: 0.17787, Batch_BER: 0.06800\n",
            "Iteration: 310, Epoch: 3, Loss: 0.17788, Batch_BER: 0.05400\n",
            "Iteration: 320, Epoch: 3, Loss: 0.17771, Batch_BER: 0.07800\n",
            "Iteration: 330, Epoch: 3, Loss: 0.17752, Batch_BER: 0.05600\n",
            "Iteration: 340, Epoch: 3, Loss: 0.17714, Batch_BER: 0.05400\n",
            "Iteration: 350, Epoch: 3, Loss: 0.17695, Batch_BER: 0.05000\n",
            "Iteration: 360, Epoch: 3, Loss: 0.17698, Batch_BER: 0.08400\n",
            "Iteration: 370, Epoch: 3, Loss: 0.17729, Batch_BER: 0.08000\n",
            "Iteration: 380, Epoch: 3, Loss: 0.17703, Batch_BER: 0.05000\n",
            "Iteration: 390, Epoch: 3, Loss: 0.17679, Batch_BER: 0.06600\n",
            "Iteration: 400, Epoch: 3, Loss: 0.17648, Batch_BER: 0.05400\n",
            "Interim result for Epoch: 3, Loss: 0.17648, Batch_BER: 0.05400\n",
            "Training Bob in Epoch 4/5\n",
            "Iteration: 10, Epoch: 4, Loss: 0.17005, Batch_BER: 0.06000\n",
            "Iteration: 20, Epoch: 4, Loss: 0.17052, Batch_BER: 0.06000\n",
            "Iteration: 30, Epoch: 4, Loss: 0.17609, Batch_BER: 0.08000\n",
            "Iteration: 40, Epoch: 4, Loss: 0.18042, Batch_BER: 0.08000\n",
            "Iteration: 50, Epoch: 4, Loss: 0.17954, Batch_BER: 0.06000\n",
            "Iteration: 60, Epoch: 4, Loss: 0.17816, Batch_BER: 0.06800\n",
            "Iteration: 70, Epoch: 4, Loss: 0.17798, Batch_BER: 0.06400\n",
            "Iteration: 80, Epoch: 4, Loss: 0.17708, Batch_BER: 0.07000\n",
            "Iteration: 90, Epoch: 4, Loss: 0.17722, Batch_BER: 0.06200\n",
            "Iteration: 100, Epoch: 4, Loss: 0.17657, Batch_BER: 0.06000\n",
            "Iteration: 110, Epoch: 4, Loss: 0.17732, Batch_BER: 0.08200\n",
            "Iteration: 120, Epoch: 4, Loss: 0.17764, Batch_BER: 0.05400\n",
            "Iteration: 130, Epoch: 4, Loss: 0.17690, Batch_BER: 0.05600\n",
            "Iteration: 140, Epoch: 4, Loss: 0.17773, Batch_BER: 0.05800\n",
            "Iteration: 150, Epoch: 4, Loss: 0.17809, Batch_BER: 0.07800\n",
            "Iteration: 160, Epoch: 4, Loss: 0.17756, Batch_BER: 0.05600\n",
            "Iteration: 170, Epoch: 4, Loss: 0.17750, Batch_BER: 0.07000\n",
            "Iteration: 180, Epoch: 4, Loss: 0.17692, Batch_BER: 0.07800\n",
            "Iteration: 190, Epoch: 4, Loss: 0.17697, Batch_BER: 0.07000\n",
            "Iteration: 200, Epoch: 4, Loss: 0.17646, Batch_BER: 0.05000\n",
            "Iteration: 210, Epoch: 4, Loss: 0.17646, Batch_BER: 0.05400\n",
            "Iteration: 220, Epoch: 4, Loss: 0.17624, Batch_BER: 0.05600\n",
            "Iteration: 230, Epoch: 4, Loss: 0.17628, Batch_BER: 0.07000\n",
            "Iteration: 240, Epoch: 4, Loss: 0.17575, Batch_BER: 0.06200\n",
            "Iteration: 250, Epoch: 4, Loss: 0.17549, Batch_BER: 0.06400\n",
            "Iteration: 260, Epoch: 4, Loss: 0.17515, Batch_BER: 0.07400\n",
            "Iteration: 270, Epoch: 4, Loss: 0.17468, Batch_BER: 0.05200\n",
            "Iteration: 280, Epoch: 4, Loss: 0.17450, Batch_BER: 0.05400\n",
            "Iteration: 290, Epoch: 4, Loss: 0.17493, Batch_BER: 0.06600\n",
            "Iteration: 300, Epoch: 4, Loss: 0.17488, Batch_BER: 0.05800\n",
            "Iteration: 310, Epoch: 4, Loss: 0.17471, Batch_BER: 0.04800\n",
            "Iteration: 320, Epoch: 4, Loss: 0.17447, Batch_BER: 0.07000\n",
            "Iteration: 330, Epoch: 4, Loss: 0.17418, Batch_BER: 0.04600\n",
            "Iteration: 340, Epoch: 4, Loss: 0.17387, Batch_BER: 0.05800\n",
            "Iteration: 350, Epoch: 4, Loss: 0.17382, Batch_BER: 0.05600\n",
            "Iteration: 360, Epoch: 4, Loss: 0.17370, Batch_BER: 0.05600\n",
            "Iteration: 370, Epoch: 4, Loss: 0.17321, Batch_BER: 0.04800\n",
            "Iteration: 380, Epoch: 4, Loss: 0.17340, Batch_BER: 0.06800\n",
            "Iteration: 390, Epoch: 4, Loss: 0.17369, Batch_BER: 0.05600\n",
            "Iteration: 400, Epoch: 4, Loss: 0.17326, Batch_BER: 0.05400\n",
            "Interim result for Epoch: 4, Loss: 0.17326, Batch_BER: 0.05400\n",
            "Training Bob in Epoch 5/5\n",
            "Iteration: 10, Epoch: 5, Loss: 0.16889, Batch_BER: 0.07200\n",
            "Iteration: 20, Epoch: 5, Loss: 0.16848, Batch_BER: 0.05400\n",
            "Iteration: 30, Epoch: 5, Loss: 0.17193, Batch_BER: 0.05400\n",
            "Iteration: 40, Epoch: 5, Loss: 0.17644, Batch_BER: 0.08000\n",
            "Iteration: 50, Epoch: 5, Loss: 0.17852, Batch_BER: 0.08200\n",
            "Iteration: 60, Epoch: 5, Loss: 0.17482, Batch_BER: 0.06600\n",
            "Iteration: 70, Epoch: 5, Loss: 0.17784, Batch_BER: 0.08600\n",
            "Iteration: 80, Epoch: 5, Loss: 0.17807, Batch_BER: 0.05800\n",
            "Iteration: 90, Epoch: 5, Loss: 0.17794, Batch_BER: 0.05600\n",
            "Iteration: 100, Epoch: 5, Loss: 0.17748, Batch_BER: 0.06600\n",
            "Iteration: 110, Epoch: 5, Loss: 0.17832, Batch_BER: 0.06000\n",
            "Iteration: 120, Epoch: 5, Loss: 0.17941, Batch_BER: 0.08400\n",
            "Iteration: 130, Epoch: 5, Loss: 0.17853, Batch_BER: 0.05400\n",
            "Iteration: 140, Epoch: 5, Loss: 0.17795, Batch_BER: 0.06000\n",
            "Iteration: 150, Epoch: 5, Loss: 0.17810, Batch_BER: 0.06600\n",
            "Iteration: 160, Epoch: 5, Loss: 0.17835, Batch_BER: 0.06600\n",
            "Iteration: 170, Epoch: 5, Loss: 0.17739, Batch_BER: 0.06400\n",
            "Iteration: 180, Epoch: 5, Loss: 0.17783, Batch_BER: 0.07200\n",
            "Iteration: 190, Epoch: 5, Loss: 0.17772, Batch_BER: 0.05600\n",
            "Iteration: 200, Epoch: 5, Loss: 0.17816, Batch_BER: 0.05400\n",
            "Iteration: 210, Epoch: 5, Loss: 0.17769, Batch_BER: 0.06200\n",
            "Iteration: 220, Epoch: 5, Loss: 0.17738, Batch_BER: 0.07800\n",
            "Iteration: 230, Epoch: 5, Loss: 0.17709, Batch_BER: 0.07200\n",
            "Iteration: 240, Epoch: 5, Loss: 0.17754, Batch_BER: 0.06600\n",
            "Iteration: 250, Epoch: 5, Loss: 0.17713, Batch_BER: 0.06200\n",
            "Iteration: 260, Epoch: 5, Loss: 0.17708, Batch_BER: 0.09200\n",
            "Iteration: 270, Epoch: 5, Loss: 0.17654, Batch_BER: 0.04600\n",
            "Iteration: 280, Epoch: 5, Loss: 0.17710, Batch_BER: 0.07400\n",
            "Iteration: 290, Epoch: 5, Loss: 0.17641, Batch_BER: 0.04800\n",
            "Iteration: 300, Epoch: 5, Loss: 0.17672, Batch_BER: 0.08600\n",
            "Iteration: 310, Epoch: 5, Loss: 0.17704, Batch_BER: 0.06000\n",
            "Iteration: 320, Epoch: 5, Loss: 0.17717, Batch_BER: 0.06000\n",
            "Iteration: 330, Epoch: 5, Loss: 0.17674, Batch_BER: 0.06400\n",
            "Iteration: 340, Epoch: 5, Loss: 0.17680, Batch_BER: 0.08600\n",
            "Iteration: 350, Epoch: 5, Loss: 0.17646, Batch_BER: 0.05200\n",
            "Iteration: 360, Epoch: 5, Loss: 0.17655, Batch_BER: 0.07200\n",
            "Iteration: 370, Epoch: 5, Loss: 0.17647, Batch_BER: 0.07200\n",
            "Iteration: 380, Epoch: 5, Loss: 0.17616, Batch_BER: 0.04000\n",
            "Iteration: 390, Epoch: 5, Loss: 0.17601, Batch_BER: 0.05400\n",
            "Iteration: 400, Epoch: 5, Loss: 0.17585, Batch_BER: 0.06000\n",
            "Interim result for Epoch: 5, Loss: 0.17585, Batch_BER: 0.06000\n",
            "CPU times: user 48.5 s, sys: 1.8 s, total: 50.3 s\n",
            "Wall time: 35.4 s\n"
          ],
          "name": "stdout"
        }
      ]
    },
    {
      "cell_type": "code",
      "metadata": {
        "id": "N9dYDWne8UQN",
        "colab_type": "code",
        "colab": {
          "base_uri": "https://localhost:8080/",
          "height": 106
        },
        "outputId": "8b0df0a8-2031-4e63-9c8c-45d84d93e9aa"
      },
      "source": [
        "print('MI time',time_to_train_MI)\n",
        "print('Enc time',time_to_train_enc)\n",
        "print('Dec time',time_to_train_dec)\n",
        "print('time for training',(time_to_train_dec +time_to_train_enc+ time_to_train_MI))\n",
        "print('Samples used for training', samples_for_training )"
      ],
      "execution_count": 21,
      "outputs": [
        {
          "output_type": "stream",
          "text": [
            "MI time 3.1167151927948\n",
            "Enc time 23.762514114379883\n",
            "Dec time 7.9853503704071045\n",
            "time for training 34.86457967758179\n",
            "Samples used for training 3133000\n"
          ],
          "name": "stdout"
        }
      ]
    },
    {
      "cell_type": "code",
      "metadata": {
        "id": "z-ELSw_ZnCXT",
        "colab_type": "code",
        "colab": {
          "base_uri": "https://localhost:8080/",
          "height": 106
        },
        "outputId": "f24d0cfa-faf1-4005-a00b-ac8440ef471e"
      },
      "source": [
        "bber_data = Test_AE(test_msg)"
      ],
      "execution_count": 22,
      "outputs": [
        {
          "output_type": "stream",
          "text": [
            "Progress: 6 of 30 parts\n",
            "Progress: 12 of 30 parts\n",
            "Progress: 18 of 30 parts\n",
            "Progress: 24 of 30 parts\n",
            "Progress: 30 of 30 parts\n"
          ],
          "name": "stdout"
        }
      ]
    },
    {
      "cell_type": "code",
      "metadata": {
        "id": "eN-jOLPqTvrz",
        "colab_type": "code",
        "colab": {
          "base_uri": "https://localhost:8080/",
          "height": 352
        },
        "outputId": "efc46869-b4c5-429f-fa0f-24ab3edf9f57"
      },
      "source": [
        "# Approximate 16 QAM Error\n",
        "def SIXT_QAM_sim(ebno):\n",
        "    return (3.0/2)*special.erfc(np.sqrt((4.0/10)*10.**(ebno/10)))\n",
        "\n",
        "ebnodbs = np.linspace(0,15,16)\n",
        "fig = plt.figure(figsize=(8, 5))\n",
        "plt.semilogy(bber_data[0], bber_data[1], 'o-')\n",
        "\n",
        "plt.semilogy(ebnodbs, SIXT_QAM_sim(ebnodbs), '^-');\n",
        "plt.gca().set_ylim(1e-5, 1)\n",
        "plt.gca().set_xlim(0, 15)\n",
        "plt.ylabel(\"Batch Symbol Error Rate\", fontsize=14, rotation=90)\n",
        "plt.xlabel(\"SNR [dB]\", fontsize=18)\n",
        "plt.legend(['AE with MINE', '16QAM'],\n",
        "           prop={'size': 14}, loc='upper right');\n",
        "plt.grid(True, which=\"both\")"
      ],
      "execution_count": 23,
      "outputs": [
        {
          "output_type": "display_data",
          "data": {
            "image/png": "[encoded data removed]",
            "text/plain": [
              "<Figure size 576x360 with 1 Axes>"
            ]
          },
          "metadata": {
            "tags": []
          }
        }
      ]
    },
    {
      "cell_type": "code",
      "metadata": {
        "id": "7Ai0b10W8XJl",
        "colab_type": "code",
        "colab": {}
      },
      "source": [
        ""
      ],
      "execution_count": 0,
      "outputs": []
    }
  ]
}